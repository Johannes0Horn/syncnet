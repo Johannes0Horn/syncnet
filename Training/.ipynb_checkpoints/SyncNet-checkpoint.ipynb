{
 "cells": [
  {
   "cell_type": "markdown",
   "metadata": {},
   "source": [
    "# Build Network\n",
    "\n",
    "This Notebook implements SyncNet from \"Out of time: automated lip sync in the wild\":\n",
    "https://www.robots.ox.ac.uk/~vgg/publications/2016/Chung16a/chung16a.pdf.\n",
    "\n",
    "It is based on \"Delving Deep into Convolutional Nets\": https://arxiv.org/pdf/1405.3531.pdf,\n",
    "\n",
    "which is based on \"Visualizing and Understanding Convolutional Networks\": https://arxiv.org/pdf/1311.2901.pdf\n",
    "\n",
    "SyncNet is basedon a Audio- and a Videostream:\n",
    "![](model.png)"
   ]
  },
  {
   "cell_type": "code",
   "execution_count": 1,
   "metadata": {
    "ExecuteTime": {
     "end_time": "2020-11-20T15:48:20.273018Z",
     "start_time": "2020-11-20T15:48:20.268324Z"
    }
   },
   "outputs": [],
   "source": [
    "#supress deprecated warnings\n",
    "import warnings\n",
    "warnings.filterwarnings('ignore')"
   ]
  },
  {
   "cell_type": "code",
   "execution_count": 2,
   "metadata": {
    "ExecuteTime": {
     "end_time": "2020-11-20T15:48:20.336875Z",
     "start_time": "2020-11-20T15:48:20.275729Z"
    }
   },
   "outputs": [],
   "source": [
    "from IPython.display import clear_output\n",
    "def update_progress(progress):\n",
    "    bar_length = 20\n",
    "    if isinstance(progress, int):\n",
    "        progress = float(progress)\n",
    "    if not isinstance(progress, float):\n",
    "        progress = 0\n",
    "    if progress < 0:\n",
    "        progress = 0\n",
    "    if progress >= 1:\n",
    "        progress = 1\n",
    "\n",
    "    block = int(round(bar_length * progress))\n",
    "\n",
    "    clear_output(wait = True)\n",
    "    text = \"Progress: [{0}] {1:.1f}%\".format( \"#\" * block + \"-\" * (bar_length - block), progress * 100)\n",
    "    print(text)\n",
    "    return"
   ]
  },
  {
   "cell_type": "code",
   "execution_count": 3,
   "metadata": {
    "ExecuteTime": {
     "end_time": "2020-11-20T15:48:22.180335Z",
     "start_time": "2020-11-20T15:48:20.339057Z"
    }
   },
   "outputs": [],
   "source": [
    "import keras\n",
    "import numpy as np\n",
    "import tensorflow as tf\n",
    "from keras import Input, Sequential, Model\n",
    "from keras.layers import Conv2D, Lambda, MaxPooling2D, Flatten, Dense, Dropout, ZeroPadding2D, LocallyConnected2D \\\n",
    ", BatchNormalization, Activation\n",
    "from keras import backend as K\n",
    "import PIL\n",
    "import matplotlib.pyplot as plt\n",
    "import random\n",
    "from keras.optimizers import SGD\n",
    "import os\n",
    "import json\n",
    "import random\n",
    "import cv2\n",
    "import librosa\n",
    "from moviepy.editor import *\n",
    "import math"
   ]
  },
  {
   "cell_type": "code",
   "execution_count": 4,
   "metadata": {
    "ExecuteTime": {
     "end_time": "2020-11-20T15:48:22.184976Z",
     "start_time": "2020-11-20T15:48:22.182226Z"
    }
   },
   "outputs": [
    {
     "name": "stdout",
     "output_type": "stream",
     "text": [
      "2.4.3\n"
     ]
    }
   ],
   "source": [
    "#make sure keras Version is 2.2.4\n",
    "print(keras.__version__)"
   ]
  },
  {
   "cell_type": "markdown",
   "metadata": {},
   "source": [
    "tensorflow                 1.15.0      \n",
    "tensorflow-estimator       1.13.0      \n",
    "tensorflow-gpu             1.13.1 "
   ]
  },
  {
   "cell_type": "markdown",
   "metadata": {},
   "source": [
    "The Audiostreamarchitecture is based on CNN-M from \"Delving Deep into Convolutional Nets\": https://arxiv.org/pdf/1405.3531.pdf.\n",
    "![](cnn-m.png)\n",
    "\n",
    "The authors of the \"Out of time: automated lip sync in the wild\" paper only state to modify filter sizes from bigger ones to 3x3. This doesnt work because the resolution of the feature maps after the second conv layer gets smaller than 3x3, so a filter by the size of 3x3 cant be applied anymore. Therefore we assume the stride from was also decreased from two to one in the conv layer 1&2, and alos for the pooling layers, to keep the resolution high enough.\n",
    "Also we assume that the fc6 from the architecture figure expects a featuremaps with resolution of \"only\" 6x6 respectively 5x4 connections for each of the 4096 neurons.\n",
    "Also padding in the first layer is added to get the 6x6 respectively 5x4 resolution of the last feature maps.\n",
    "The same applies to the videostream which is basically the same architecture.\n",
    "\n",
    "The original architecture uses local response normlaization instead of batchnormlaization:\n",
    "```\n",
    "model.add(Lambda(tf.nn.local_response_normalization, name = \"1_lrn\"))\n",
    "```\n",
    "\n",
    "\n",
    "Keep in mind:\n",
    "\n",
    "It seems that even Christian Szegedy now likes to perform BatchNorm after the ReLU (not before it). Quote by F. Chollet, the author of Keras: \"I haven't gone back to check what they are suggesting in their original paper, but I can guarantee that recent code written by Christian applies relu before BN. It is still occasionally a topic of debate, though.\""
   ]
  },
  {
   "cell_type": "markdown",
   "metadata": {},
   "source": [
    "## Audio part"
   ]
  },
  {
   "cell_type": "code",
   "execution_count": 5,
   "metadata": {
    "ExecuteTime": {
     "end_time": "2020-11-20T15:48:22.201088Z",
     "start_time": "2020-11-20T15:48:22.186403Z"
    }
   },
   "outputs": [],
   "source": [
    "def getAudioStream(audioinput_shape):\n",
    "    # Convolutional Neural Network\n",
    "\n",
    "    #Audio stream consisting of 5 Convolutional Layers and 2 FC\n",
    "    RandomNormal_initializer = tf.keras.initializers.RandomNormal(mean=0., stddev=0.02)\n",
    "    audio_stream = Sequential()\n",
    "\n",
    "    #CONV1\n",
    "    audio_stream.add(Conv2D(96, (3,3), strides=(1, 1), padding = \"same\", input_shape=audioinput_shape,\n",
    "                   kernel_initializer=RandomNormal_initializer, name = \"1_conv2d\"))\n",
    "    audio_stream.add(BatchNormalization())\n",
    "    audio_stream.add(Activation('relu'))\n",
    "\n",
    "\n",
    "    #CONV2\n",
    "    audio_stream.add(Conv2D(256, (3, 3), strides=(1, 1), padding = \"same\",\n",
    "                   kernel_initializer=RandomNormal_initializer, name = \"2_conv2d\"))\n",
    "    audio_stream.add(BatchNormalization())\n",
    "    audio_stream.add(Activation('relu'))\n",
    "    audio_stream.add(MaxPooling2D(pool_size=(1, 3), strides=(1, 2), name = \"2_maxpool2d\"))\n",
    "\n",
    "    #CONV3\n",
    "    audio_stream.add(Conv2D(512, (3,3), strides=(1, 1), padding = \"same\",\n",
    "                   kernel_initializer=RandomNormal_initializer, name = \"3_conv2d\"))\n",
    "    audio_stream.add(BatchNormalization())\n",
    "    audio_stream.add(Activation('relu'))\n",
    "\n",
    "    #CONV4\n",
    "    audio_stream.add(Conv2D(512, (3,3), strides=(1, 1), padding = \"valid\",\n",
    "                   kernel_initializer=RandomNormal_initializer, name = \"4_conv2d\"))\n",
    "    audio_stream.add(BatchNormalization())\n",
    "    audio_stream.add(Activation('relu'))\n",
    "\n",
    "    #CONV5\n",
    "    audio_stream.add(ZeroPadding2D((0,1)))\n",
    "    audio_stream.add(Conv2D(512, (3,3), strides=(1, 1), padding = \"same\",\n",
    "                   kernel_initializer=RandomNormal_initializer, name = \"5_conv2d\"))\n",
    "    audio_stream.add(BatchNormalization())\n",
    "    audio_stream.add(Activation('relu'))\n",
    "    audio_stream.add(MaxPooling2D(pool_size=(3, 3), strides=(2, 2), name = \"5_maxpool2d\"))\n",
    "\n",
    "    #Locally Connected Layer or FC?\n",
    "    #\n",
    "    #The paper says FC with 5x4 Filter. Since FC means that each neuron is connected with each neuron from the layer before,\n",
    "    #we assume the Resolution of the Feature maps should be 5x4 after the last Convolution, which is easily achieved \n",
    "    #by adding Zero padding. Therefore we use FC layer instead of Locally Connected Layer for now.\n",
    "    \n",
    "    #audio_stream.add(LocallyConnected2D(4096, (5, 4), activation='relu', kernel_initializer=RandomNormal_initializer))\n",
    "    \n",
    "    #FC1\n",
    "    audio_stream.add(Flatten())\n",
    "    audio_stream.add(Dense(4096, kernel_initializer=RandomNormal_initializer))\n",
    "    audio_stream.add(BatchNormalization())\n",
    "    audio_stream.add(Activation('relu'))    \n",
    "    audio_stream.add(Dropout(0.5))\n",
    "    \n",
    "    #FC2\n",
    "    audio_stream.add(Dense(256, kernel_initializer=RandomNormal_initializer))\n",
    "    audio_stream.add(BatchNormalization())\n",
    "    audio_stream.add(Activation('relu'))\n",
    "\n",
    "    return audio_stream"
   ]
  },
  {
   "cell_type": "code",
   "execution_count": 6,
   "metadata": {
    "ExecuteTime": {
     "end_time": "2020-11-20T15:48:22.660424Z",
     "start_time": "2020-11-20T15:48:22.202435Z"
    }
   },
   "outputs": [
    {
     "name": "stdout",
     "output_type": "stream",
     "text": [
      "Model: \"sequential\"\n",
      "_________________________________________________________________\n",
      "Layer (type)                 Output Shape              Param #   \n",
      "=================================================================\n",
      "1_conv2d (Conv2D)            (None, 13, 20, 96)        960       \n",
      "_________________________________________________________________\n",
      "batch_normalization (BatchNo (None, 13, 20, 96)        384       \n",
      "_________________________________________________________________\n",
      "activation (Activation)      (None, 13, 20, 96)        0         \n",
      "_________________________________________________________________\n",
      "2_conv2d (Conv2D)            (None, 13, 20, 256)       221440    \n",
      "_________________________________________________________________\n",
      "batch_normalization_1 (Batch (None, 13, 20, 256)       1024      \n",
      "_________________________________________________________________\n",
      "activation_1 (Activation)    (None, 13, 20, 256)       0         \n",
      "_________________________________________________________________\n",
      "2_maxpool2d (MaxPooling2D)   (None, 13, 9, 256)        0         \n",
      "_________________________________________________________________\n",
      "3_conv2d (Conv2D)            (None, 13, 9, 512)        1180160   \n",
      "_________________________________________________________________\n",
      "batch_normalization_2 (Batch (None, 13, 9, 512)        2048      \n",
      "_________________________________________________________________\n",
      "activation_2 (Activation)    (None, 13, 9, 512)        0         \n",
      "_________________________________________________________________\n",
      "4_conv2d (Conv2D)            (None, 11, 7, 512)        2359808   \n",
      "_________________________________________________________________\n",
      "batch_normalization_3 (Batch (None, 11, 7, 512)        2048      \n",
      "_________________________________________________________________\n",
      "activation_3 (Activation)    (None, 11, 7, 512)        0         \n",
      "_________________________________________________________________\n",
      "zero_padding2d (ZeroPadding2 (None, 11, 9, 512)        0         \n",
      "_________________________________________________________________\n",
      "5_conv2d (Conv2D)            (None, 11, 9, 512)        2359808   \n",
      "_________________________________________________________________\n",
      "batch_normalization_4 (Batch (None, 11, 9, 512)        2048      \n",
      "_________________________________________________________________\n",
      "activation_4 (Activation)    (None, 11, 9, 512)        0         \n",
      "_________________________________________________________________\n",
      "5_maxpool2d (MaxPooling2D)   (None, 5, 4, 512)         0         \n",
      "_________________________________________________________________\n",
      "flatten (Flatten)            (None, 10240)             0         \n",
      "_________________________________________________________________\n",
      "dense (Dense)                (None, 4096)              41947136  \n",
      "_________________________________________________________________\n",
      "batch_normalization_5 (Batch (None, 4096)              16384     \n",
      "_________________________________________________________________\n",
      "activation_5 (Activation)    (None, 4096)              0         \n",
      "_________________________________________________________________\n",
      "dropout (Dropout)            (None, 4096)              0         \n",
      "_________________________________________________________________\n",
      "dense_1 (Dense)              (None, 256)               1048832   \n",
      "_________________________________________________________________\n",
      "batch_normalization_6 (Batch (None, 256)               1024      \n",
      "_________________________________________________________________\n",
      "activation_6 (Activation)    (None, 256)               0         \n",
      "=================================================================\n",
      "Total params: 49,143,104\n",
      "Trainable params: 49,130,624\n",
      "Non-trainable params: 12,480\n",
      "_________________________________________________________________\n"
     ]
    }
   ],
   "source": [
    "#test dimensions of audio stream \n",
    "audioinput_shape = (13, 20, 1)\n",
    "audiostream = getAudioStream(audioinput_shape)\n",
    "audiostream.summary()\n"
   ]
  },
  {
   "cell_type": "markdown",
   "metadata": {},
   "source": [
    "## Video part"
   ]
  },
  {
   "cell_type": "code",
   "execution_count": 7,
   "metadata": {
    "ExecuteTime": {
     "end_time": "2020-11-20T15:48:22.671421Z",
     "start_time": "2020-11-20T15:48:22.661550Z"
    }
   },
   "outputs": [],
   "source": [
    "def getVideoStream(videoinput_shape):\n",
    "    # Convolutional Neural Network\n",
    "\n",
    "    #Video stream consisting of 5 Convolutional Layers and 2 FC\n",
    "    RandomNormal_initializer = tf.keras.initializers.RandomNormal(mean=0., stddev=0.02)\n",
    "    video_stream = Sequential()\n",
    "\n",
    "    #CONV1\n",
    "    video_stream.add(Conv2D(96, (3,3), strides=(1, 1), padding = \"same\", input_shape=videoinput_shape,\n",
    "                   kernel_initializer=RandomNormal_initializer, name = \"1_conv2d\"))\n",
    "    video_stream.add(BatchNormalization())\n",
    "    video_stream.add(Activation('relu'))\n",
    "    video_stream.add(MaxPooling2D(pool_size=(3, 3), name = \"1_maxpool2d\"))\n",
    "\n",
    "\n",
    "    #CONV2\n",
    "    video_stream.add(Conv2D(256, (3, 3), strides=(1, 1), padding = \"same\",\n",
    "                   kernel_initializer=RandomNormal_initializer, name = \"2_conv2d\"))\n",
    "    video_stream.add(BatchNormalization())\n",
    "    video_stream.add(Activation('relu'))\n",
    "    video_stream.add(MaxPooling2D(pool_size=(3, 3), name = \"2_maxpool2d\"))\n",
    "\n",
    "    #CONV3\n",
    "    video_stream.add(ZeroPadding2D((1,1)))\n",
    "    video_stream.add(Conv2D(512, (3,3), strides=(1, 1), padding = \"same\",\n",
    "                   kernel_initializer=RandomNormal_initializer, name = \"3_conv2d\"))\n",
    "    video_stream.add(BatchNormalization())\n",
    "    video_stream.add(Activation('relu'))\n",
    "\n",
    "    #CONV4\n",
    "    video_stream.add(ZeroPadding2D((1,1)))\n",
    "    video_stream.add(Conv2D(512, (3,3), strides=(1, 1), padding = \"same\",\n",
    "                   kernel_initializer=RandomNormal_initializer, name = \"4_conv2d\"))\n",
    "    video_stream.add(BatchNormalization())\n",
    "    video_stream.add(Activation('relu'))\n",
    "\n",
    "    #CONV5\n",
    "    video_stream.add(ZeroPadding2D((1,1)))\n",
    "    video_stream.add(Conv2D(512, (3,3), strides=(1, 1), padding = \"same\",\n",
    "                   kernel_initializer=RandomNormal_initializer, name = \"5_conv2d\"))\n",
    "    video_stream.add(BatchNormalization())\n",
    "    video_stream.add(Activation('relu'))\n",
    "    video_stream.add(MaxPooling2D(pool_size=(3, 3), name = \"5_maxpool2d\"))\n",
    "\n",
    "    #Locally Connected Layer or FC?\n",
    "    #\n",
    "    #The paper says FC with 6x6 Filter. Since FC means that each neuron is connected with each neuron from the layer before,\n",
    "    #we assume the Resolution of the Feature maps should be 5x4 after the last Convolution, which is easily achivied \n",
    "    #by adding Zero padding. Therefore we use FC layer instead of for now.\n",
    "    \n",
    "    #video_stream.add(LocallyConnected2D(4096, (6, 6), activation='relu', kernel_initializer=RandomNormal_initializer))\n",
    "    \n",
    "    #FC1\n",
    "    video_stream.add(Flatten())\n",
    "    video_stream.add(Dense(4096, activation='relu', kernel_initializer=RandomNormal_initializer))\n",
    "    video_stream.add(BatchNormalization())\n",
    "    video_stream.add(Activation('relu'))\n",
    "    video_stream.add(Dropout(0.5))\n",
    "    \n",
    "    #FC2\n",
    "    video_stream.add(Dense(256, activation='sigmoid', kernel_initializer=RandomNormal_initializer))\n",
    "    video_stream.add(BatchNormalization())\n",
    "    video_stream.add(Activation('relu'))\n",
    "\n",
    "    return video_stream"
   ]
  },
  {
   "cell_type": "code",
   "execution_count": 8,
   "metadata": {
    "ExecuteTime": {
     "end_time": "2020-11-20T15:48:23.127187Z",
     "start_time": "2020-11-20T15:48:22.673213Z"
    }
   },
   "outputs": [
    {
     "name": "stdout",
     "output_type": "stream",
     "text": [
      "Model: \"sequential_1\"\n",
      "_________________________________________________________________\n",
      "Layer (type)                 Output Shape              Param #   \n",
      "=================================================================\n",
      "1_conv2d (Conv2D)            (None, 120, 120, 96)      4416      \n",
      "_________________________________________________________________\n",
      "batch_normalization_7 (Batch (None, 120, 120, 96)      384       \n",
      "_________________________________________________________________\n",
      "activation_7 (Activation)    (None, 120, 120, 96)      0         \n",
      "_________________________________________________________________\n",
      "1_maxpool2d (MaxPooling2D)   (None, 40, 40, 96)        0         \n",
      "_________________________________________________________________\n",
      "2_conv2d (Conv2D)            (None, 40, 40, 256)       221440    \n",
      "_________________________________________________________________\n",
      "batch_normalization_8 (Batch (None, 40, 40, 256)       1024      \n",
      "_________________________________________________________________\n",
      "activation_8 (Activation)    (None, 40, 40, 256)       0         \n",
      "_________________________________________________________________\n",
      "2_maxpool2d (MaxPooling2D)   (None, 13, 13, 256)       0         \n",
      "_________________________________________________________________\n",
      "zero_padding2d_1 (ZeroPaddin (None, 15, 15, 256)       0         \n",
      "_________________________________________________________________\n",
      "3_conv2d (Conv2D)            (None, 15, 15, 512)       1180160   \n",
      "_________________________________________________________________\n",
      "batch_normalization_9 (Batch (None, 15, 15, 512)       2048      \n",
      "_________________________________________________________________\n",
      "activation_9 (Activation)    (None, 15, 15, 512)       0         \n",
      "_________________________________________________________________\n",
      "zero_padding2d_2 (ZeroPaddin (None, 17, 17, 512)       0         \n",
      "_________________________________________________________________\n",
      "4_conv2d (Conv2D)            (None, 17, 17, 512)       2359808   \n",
      "_________________________________________________________________\n",
      "batch_normalization_10 (Batc (None, 17, 17, 512)       2048      \n",
      "_________________________________________________________________\n",
      "activation_10 (Activation)   (None, 17, 17, 512)       0         \n",
      "_________________________________________________________________\n",
      "zero_padding2d_3 (ZeroPaddin (None, 19, 19, 512)       0         \n",
      "_________________________________________________________________\n",
      "5_conv2d (Conv2D)            (None, 19, 19, 512)       2359808   \n",
      "_________________________________________________________________\n",
      "batch_normalization_11 (Batc (None, 19, 19, 512)       2048      \n",
      "_________________________________________________________________\n",
      "activation_11 (Activation)   (None, 19, 19, 512)       0         \n",
      "_________________________________________________________________\n",
      "5_maxpool2d (MaxPooling2D)   (None, 6, 6, 512)         0         \n",
      "_________________________________________________________________\n",
      "flatten_1 (Flatten)          (None, 18432)             0         \n",
      "_________________________________________________________________\n",
      "dense_2 (Dense)              (None, 4096)              75501568  \n",
      "_________________________________________________________________\n",
      "batch_normalization_12 (Batc (None, 4096)              16384     \n",
      "_________________________________________________________________\n",
      "activation_12 (Activation)   (None, 4096)              0         \n",
      "_________________________________________________________________\n",
      "dropout_1 (Dropout)          (None, 4096)              0         \n",
      "_________________________________________________________________\n",
      "dense_3 (Dense)              (None, 256)               1048832   \n",
      "_________________________________________________________________\n",
      "batch_normalization_13 (Batc (None, 256)               1024      \n",
      "_________________________________________________________________\n",
      "activation_13 (Activation)   (None, 256)               0         \n",
      "=================================================================\n",
      "Total params: 82,700,992\n",
      "Trainable params: 82,688,512\n",
      "Non-trainable params: 12,480\n",
      "_________________________________________________________________\n"
     ]
    }
   ],
   "source": [
    "#test dimensions of video stream\n",
    "videoinput_shape = (120, 120, 5)\n",
    "videostream = getVideoStream(videoinput_shape)\n",
    "videostream.summary()"
   ]
  },
  {
   "cell_type": "markdown",
   "metadata": {},
   "source": [
    "## Loss function"
   ]
  },
  {
   "cell_type": "markdown",
   "metadata": {},
   "source": [
    "![](loss_.png)"
   ]
  },
  {
   "cell_type": "markdown",
   "metadata": {},
   "source": [
    "Here on page 3 (http://yann.lecun.com/exdb/publis/pdf/hadsell-chopra-lecun-06.pdf) one finds out that y is either zero or one."
   ]
  },
  {
   "cell_type": "code",
   "execution_count": 9,
   "metadata": {
    "ExecuteTime": {
     "end_time": "2020-11-20T15:48:23.131721Z",
     "start_time": "2020-11-20T15:48:23.128742Z"
    }
   },
   "outputs": [],
   "source": [
    "#numpy implementation\n",
    "def numpy_contrastive_loss(Y, euclidian_distance):\n",
    "    margin = 1\n",
    "    square_pred = np.square(euclidian_distance)\n",
    "    margin_square = np.square(np.max(margin - euclidian_distance, 0))\n",
    "    loss = np.mean(0.5 * Y * square_pred + 0.5 * (1 - Y) * margin_square)\n",
    "    return loss"
   ]
  },
  {
   "cell_type": "code",
   "execution_count": 10,
   "metadata": {
    "ExecuteTime": {
     "end_time": "2020-11-20T15:48:23.155481Z",
     "start_time": "2020-11-20T15:48:23.134828Z"
    }
   },
   "outputs": [
    {
     "name": "stdout",
     "output_type": "stream",
     "text": [
      "0.0\n",
      "0.5\n",
      "5.999999999999999\n",
      "3.0358983848622447\n"
     ]
    }
   ],
   "source": [
    "#test loss function implemented with numpy\n",
    "audiostream_vector = np.array([1., 1., 1.])\n",
    "videostream_vector = np.array([1., 1., 1.])\n",
    "euclidian_distance = np.linalg.norm(videostream_vector - audiostream_vector)\n",
    "print(numpy_contrastive_loss(1, euclidian_distance))\n",
    "print(numpy_contrastive_loss(0, euclidian_distance))\n",
    "\n",
    "audiostream_vector = np.array([1., 1., 1.])\n",
    "videostream_vector = np.array([-1., -1., -1.])\n",
    "euclidian_distance = np.linalg.norm(videostream_vector - audiostream_vector)\n",
    "print(numpy_contrastive_loss(1, euclidian_distance))\n",
    "print(numpy_contrastive_loss(0, euclidian_distance))"
   ]
  },
  {
   "cell_type": "code",
   "execution_count": 11,
   "metadata": {
    "ExecuteTime": {
     "end_time": "2020-11-20T15:48:23.170695Z",
     "start_time": "2020-11-20T15:48:23.157077Z"
    }
   },
   "outputs": [],
   "source": [
    "#reimplement it with keras, so it can be used in its graph\n",
    "#Y:0 --> genuine pair --> ideally zero distance\n",
    "#Y:1 --> false pair --> ideally high distance\n",
    "def contrastive_loss(Y, euclidean_distance):\n",
    "    margin = 1\n",
    "    square_pred = K.square(euclidean_distance)\n",
    "    #margin_square = K.square(K.maximum(margin - euclidean_distance, 0))\n",
    "    #loss = K.mean(0.5 * Y * square_pred + 0.5 * (1 - Y) * margin_square)\n",
    "    loss = K.mean(Y * (1/square_pred) + (1 - Y) * square_pred)\n",
    "    return loss"
   ]
  },
  {
   "cell_type": "code",
   "execution_count": 12,
   "metadata": {
    "ExecuteTime": {
     "end_time": "2020-11-20T15:48:23.186203Z",
     "start_time": "2020-11-20T15:48:23.172266Z"
    }
   },
   "outputs": [],
   "source": [
    "def euclidean_distance(vects):\n",
    "    x, y = vects\n",
    "    sum_square = K.sum(K.square(x - y), axis=1, keepdims=True)\n",
    "    return K.sqrt(K.maximum(sum_square, K.epsilon()))"
   ]
  },
  {
   "cell_type": "code",
   "execution_count": 13,
   "metadata": {
    "ExecuteTime": {
     "end_time": "2020-11-20T15:48:23.203087Z",
     "start_time": "2020-11-20T15:48:23.188034Z"
    }
   },
   "outputs": [],
   "source": [
    "def eucl_dist_output_shape(shapes):\n",
    "    shape1, shape2 = shapes\n",
    "    return (shape1[0], 1)"
   ]
  },
  {
   "cell_type": "code",
   "execution_count": 14,
   "metadata": {
    "ExecuteTime": {
     "end_time": "2020-11-20T15:48:23.226998Z",
     "start_time": "2020-11-20T15:48:23.205480Z"
    }
   },
   "outputs": [],
   "source": [
    "def get_SyncNet_model(audioinput_shape, videoinput_shape):\n",
    "    # Define the tensors for the two inputs\n",
    "    audio_input = Input(audioinput_shape)\n",
    "    video_input = Input(videoinput_shape)\n",
    "    \n",
    "    #get parts of the network\n",
    "    audiostream =  getAudioStream(audioinput_shape)\n",
    "    videostream = getVideoStream(videoinput_shape)\n",
    "    \n",
    "    # Generate the encodings (feature vectors)\n",
    "    encoded_audiostream = audiostream(audio_input)\n",
    "    encoded_videostream = videostream(video_input)\n",
    "    \n",
    "    #calc distance in custom layer\n",
    "    distance = Lambda(euclidean_distance,\n",
    "                  output_shape=eucl_dist_output_shape)([encoded_audiostream, encoded_videostream])\n",
    "    \n",
    "    # Connect the inputs with the outputs\n",
    "    SyncNet = Model(inputs=[audio_input, video_input], outputs=distance)\n",
    "    \n",
    "    # return the model\n",
    "    return SyncNet"
   ]
  },
  {
   "cell_type": "markdown",
   "metadata": {},
   "source": [
    "## Everything coming together"
   ]
  },
  {
   "cell_type": "code",
   "execution_count": 15,
   "metadata": {
    "ExecuteTime": {
     "end_time": "2020-11-20T15:48:24.190888Z",
     "start_time": "2020-11-20T15:48:23.229215Z"
    }
   },
   "outputs": [
    {
     "name": "stdout",
     "output_type": "stream",
     "text": [
      "Model: \"functional_1\"\n",
      "__________________________________________________________________________________________________\n",
      "Layer (type)                    Output Shape         Param #     Connected to                     \n",
      "==================================================================================================\n",
      "input_1 (InputLayer)            [(None, 13, 20, 1)]  0                                            \n",
      "__________________________________________________________________________________________________\n",
      "input_2 (InputLayer)            [(None, 120, 120, 5) 0                                            \n",
      "__________________________________________________________________________________________________\n",
      "sequential_2 (Sequential)       (None, 256)          49143104    input_1[0][0]                    \n",
      "__________________________________________________________________________________________________\n",
      "sequential_3 (Sequential)       (None, 256)          82700992    input_2[0][0]                    \n",
      "__________________________________________________________________________________________________\n",
      "lambda (Lambda)                 (None, 1)            0           sequential_2[0][0]               \n",
      "                                                                 sequential_3[0][0]               \n",
      "==================================================================================================\n",
      "Total params: 131,844,096\n",
      "Trainable params: 131,819,136\n",
      "Non-trainable params: 24,960\n",
      "__________________________________________________________________________________________________\n"
     ]
    }
   ],
   "source": [
    "#show syncnet architecture\n",
    "videoinput_shape = (120, 120, 5)\n",
    "audioinput_shape = (13, 20, 1)\n",
    "\n",
    "syncnet = get_SyncNet_model(audioinput_shape, videoinput_shape)\n",
    "syncnet.summary()"
   ]
  },
  {
   "cell_type": "markdown",
   "metadata": {},
   "source": [
    "# Prepare Data\n",
    "\n",
    "## Processing Annotations"
   ]
  },
  {
   "cell_type": "code",
   "execution_count": 16,
   "metadata": {
    "ExecuteTime": {
     "end_time": "2020-11-20T15:48:24.194066Z",
     "start_time": "2020-11-20T15:48:24.192003Z"
    }
   },
   "outputs": [],
   "source": [
    "base_path = \"../DATA/\"\n",
    "vid_path = base_path + \"videos/\"\n",
    "ann_path = base_path + \"ann/\""
   ]
  },
  {
   "cell_type": "code",
   "execution_count": 17,
   "metadata": {
    "ExecuteTime": {
     "end_time": "2020-11-20T15:48:24.209553Z",
     "start_time": "2020-11-20T15:48:24.195135Z"
    }
   },
   "outputs": [],
   "source": [
    "def get_annotations(name):\n",
    "    name = name.split(\".json\")[0]\n",
    "    name = name.split(\".mp4\")[0]\n",
    "    data = dict()\n",
    "    with open(ann_path+name+\".json\") as json_file: \n",
    "        data = json.load(json_file)\n",
    "    return data"
   ]
  },
  {
   "cell_type": "code",
   "execution_count": 18,
   "metadata": {
    "ExecuteTime": {
     "end_time": "2020-11-20T15:48:24.380859Z",
     "start_time": "2020-11-20T15:48:24.210907Z"
    }
   },
   "outputs": [
    {
     "name": "stdout",
     "output_type": "stream",
     "text": [
      "211\n",
      "YY1ERM-NIBY.json 17276\n",
      "0IclmsaP-CU.json 8716\n",
      "NI915VTjCHE.json 14789\n",
      "IFpK-MqBD5E.json 3094\n",
      "-jNlpGLpelg.json 11360\n",
      "qWwEoD68gwQ.json 0\n",
      "oE-RjpaCHvo.json 486\n",
      "Wgt8QUHQjw8.json 19456\n",
      "sLo97Bu8Fo0.json 13056\n",
      "CQ5dRyyHwfM.json 3570\n"
     ]
    }
   ],
   "source": [
    "print(len(os.listdir(ann_path)))\n",
    "for name in os.listdir(ann_path)[:10]:\n",
    "    ann = get_annotations(name)\n",
    "    print(name, len(ann))"
   ]
  },
  {
   "cell_type": "code",
   "execution_count": 19,
   "metadata": {
    "ExecuteTime": {
     "end_time": "2020-11-20T15:48:24.386561Z",
     "start_time": "2020-11-20T15:48:24.382005Z"
    }
   },
   "outputs": [],
   "source": [
    "def get_scenes(file):\n",
    "    ann = get_annotations(file)\n",
    "    scenes = list()\n",
    "    previous = -69  # ;)\n",
    "    \n",
    "    for frame, bb in ann.items():\n",
    "        frame = int(frame)\n",
    "        \n",
    "        if frame != previous + 1:\n",
    "            \n",
    "            # Szenen mit weniger als 5 frames werden rausgefiltert\n",
    "            try:\n",
    "                if len(scenes[-1]) <= 5:\n",
    "                    del scenes[-1]\n",
    "            except:\n",
    "                pass\n",
    "            \n",
    "            # neue Szene wird erstellt\n",
    "            scenes.append(dict())\n",
    "            \n",
    "        scenes[-1][frame] = bb\n",
    "        previous = frame\n",
    "        \n",
    "    return scenes"
   ]
  },
  {
   "cell_type": "code",
   "execution_count": 20,
   "metadata": {
    "ExecuteTime": {
     "end_time": "2020-11-20T15:48:24.430141Z",
     "start_time": "2020-11-20T15:48:24.388490Z"
    }
   },
   "outputs": [
    {
     "data": {
      "text/plain": [
       "(90,\n",
       " [(56, 66),\n",
       "  (671, 915),\n",
       "  (917, 1144),\n",
       "  (2167, 2242),\n",
       "  (2373, 2392),\n",
       "  (2402, 2517),\n",
       "  (2725, 2953),\n",
       "  (3311, 3434),\n",
       "  (4431, 4445),\n",
       "  (4447, 4602),\n",
       "  (5324, 5499),\n",
       "  (5557, 5658),\n",
       "  (5900, 6018),\n",
       "  (6022, 6190),\n",
       "  (6192, 6243),\n",
       "  (6255, 6293),\n",
       "  (6424, 6555),\n",
       "  (6559, 6569),\n",
       "  (6571, 6583),\n",
       "  (6855, 7102),\n",
       "  (7118, 7123),\n",
       "  (7135, 7228),\n",
       "  (7465, 7767),\n",
       "  (8509, 8592),\n",
       "  (8822, 8890),\n",
       "  (8892, 8910),\n",
       "  (8913, 8972),\n",
       "  (10566, 10660),\n",
       "  (10663, 10691),\n",
       "  (10697, 10743),\n",
       "  (10989, 11177),\n",
       "  (11568, 11680),\n",
       "  (13102, 13286),\n",
       "  (13291, 13364),\n",
       "  (13367, 13570),\n",
       "  (13577, 13880),\n",
       "  (13882, 13888),\n",
       "  (13890, 14055),\n",
       "  (14254, 14309),\n",
       "  (14314, 14418),\n",
       "  (14423, 14464),\n",
       "  (15139, 15216),\n",
       "  (15443, 15450),\n",
       "  (15458, 15558),\n",
       "  (15638, 15813),\n",
       "  (16481, 16738),\n",
       "  (16869, 16919),\n",
       "  (16921, 17166),\n",
       "  (17265, 17304),\n",
       "  (17306, 17721),\n",
       "  (17975, 18072),\n",
       "  (18279, 18311),\n",
       "  (18313, 18443),\n",
       "  (18588, 18844),\n",
       "  (18847, 18871),\n",
       "  (19115, 19218),\n",
       "  (19220, 19245),\n",
       "  (19708, 20083),\n",
       "  (21013, 21499),\n",
       "  (21505, 21517),\n",
       "  (21520, 21609),\n",
       "  (21611, 21622),\n",
       "  (21626, 21639),\n",
       "  (21645, 21686),\n",
       "  (21953, 22139),\n",
       "  (22418, 22467),\n",
       "  (22469, 22476),\n",
       "  (22482, 22572),\n",
       "  (22575, 22599),\n",
       "  (23336, 23482),\n",
       "  (23535, 23668),\n",
       "  (23789, 23836),\n",
       "  (23850, 23968),\n",
       "  (24152, 24190),\n",
       "  (24195, 24362),\n",
       "  (24889, 24970),\n",
       "  (25194, 25286),\n",
       "  (25432, 25636),\n",
       "  (26010, 26290),\n",
       "  (26292, 26304),\n",
       "  (26804, 27072),\n",
       "  (27283, 27433),\n",
       "  (27435, 27481),\n",
       "  (27483, 27517),\n",
       "  (27526, 27539),\n",
       "  (27630, 27942),\n",
       "  (28102, 28281),\n",
       "  (28373, 28541),\n",
       "  (28632, 28655),\n",
       "  (28657, 28708)])"
      ]
     },
     "execution_count": 20,
     "metadata": {},
     "output_type": "execute_result"
    }
   ],
   "source": [
    "file = random.choice(os.listdir(ann_path))\n",
    "scenes = get_scenes(file)\n",
    "len(scenes), [(min(scene.keys()), max(scene.keys())) for scene in scenes]"
   ]
  },
  {
   "cell_type": "code",
   "execution_count": 21,
   "metadata": {
    "ExecuteTime": {
     "end_time": "2020-11-20T15:48:24.445297Z",
     "start_time": "2020-11-20T15:48:24.431411Z"
    }
   },
   "outputs": [
    {
     "data": {
      "text/plain": [
       "({26872: [514, 286, 51, 20],\n",
       "  26873: [512, 284, 53, 20],\n",
       "  26874: [512, 284, 51, 20],\n",
       "  26875: [512, 279, 51, 28],\n",
       "  26876: [494, 281, 56, 20],\n",
       "  26877: [494, 279, 56, 23],\n",
       "  26878: [488, 284, 61, 17],\n",
       "  26879: [491, 281, 53, 23],\n",
       "  26880: [499, 294, 53, 12],\n",
       "  26881: [501, 289, 46, 20],\n",
       "  26882: [486, 289, 51, 17],\n",
       "  26883: [494, 299, 56, 17],\n",
       "  26884: [496, 299, 51, 17],\n",
       "  26885: [501, 304, 53, 20],\n",
       "  26886: [504, 307, 53, 20],\n",
       "  26887: [509, 309, 56, 20],\n",
       "  26888: [512, 309, 58, 23],\n",
       "  26889: [517, 312, 56, 23],\n",
       "  26890: [519, 317, 51, 20]},\n",
       " 26886)"
      ]
     },
     "execution_count": 21,
     "metadata": {},
     "output_type": "execute_result"
    }
   ],
   "source": [
    "def get_random_scene_and_start(file):\n",
    "    scenes = get_scenes(file)\n",
    "    scene = random.choice(scenes)\n",
    "    possible_starts = list(scene.keys())[:-4]  # damit Sequenz 5 Frames lang sein darf\n",
    "    start = random.choice(possible_starts)\n",
    "    return scene, start\n",
    "\n",
    "get_random_scene_and_start(random.choice(os.listdir(ann_path)))"
   ]
  },
  {
   "cell_type": "markdown",
   "metadata": {},
   "source": [
    "## Creating Features\n",
    "\n",
    "### Image Stacks"
   ]
  },
  {
   "cell_type": "code",
   "execution_count": 22,
   "metadata": {
    "ExecuteTime": {
     "end_time": "2020-11-20T15:48:24.481282Z",
     "start_time": "2020-11-20T15:48:24.446558Z"
    }
   },
   "outputs": [],
   "source": [
    "def get_image_stack(file, scene, start):\n",
    "    file = file.split(\".json\")[0] + \".mp4\"\n",
    "    cap = cv2.VideoCapture(vid_path+file)\n",
    "    images = list()\n",
    "    for frame_number in range(start, start+5):\n",
    "        cap.set(cv2.CAP_PROP_POS_FRAMES, frame_number)\n",
    "        ret, img = cap.read()\n",
    "        img = cv2.cvtColor(img, cv2.COLOR_BGR2GRAY)\n",
    "        x,y,w,h = scene[frame_number]\n",
    "        img = img[y:y+h, x:x+w]\n",
    "        img = cv2.resize(img, (120,120), interpolation=cv2.INTER_AREA)\n",
    "        images.append(img)\n",
    "    cap.release()\n",
    "    image_stack = np.stack(tuple(images)).reshape(120, 120, 5)\n",
    "    return image_stack"
   ]
  },
  {
   "cell_type": "markdown",
   "metadata": {},
   "source": [
    "### MFCCs"
   ]
  },
  {
   "cell_type": "code",
   "execution_count": 23,
   "metadata": {
    "ExecuteTime": {
     "end_time": "2020-11-20T15:48:24.504525Z",
     "start_time": "2020-11-20T15:48:24.484866Z"
    }
   },
   "outputs": [],
   "source": [
    "def get_mfcc(file, start):\n",
    "    file = file.split(\".json\")[0] + \".mp4\"\n",
    "    video = VideoFileClip(vid_path+file)\n",
    "    audio = video.audio\n",
    "    sr = 48000\n",
    "    \n",
    "    start_sec = start / video.fps\n",
    "    end_sec = (start + 5) / video.fps\n",
    "    \n",
    "    audio = audio.set_start(start_sec, change_end=False)\n",
    "    audio = audio.set_end(end_sec)\n",
    "    audio = audio.to_soundarray(fps=sr)\n",
    "    audio = (audio.T[0]+audio.T[1])/2\n",
    "    \n",
    "    hl = math.ceil(sr/100)\n",
    "    mfcc = librosa.feature.mfcc(y=audio, sr=sr, n_mfcc=13, hop_length=hl)  # 512=9, 256=18\n",
    "    while True:\n",
    "        if mfcc.shape[1] > 20:\n",
    "            hl += 5\n",
    "            mfcc = librosa.feature.mfcc(y=audio, sr=sr, n_mfcc=13, hop_length=hl)\n",
    "        elif mfcc.shape[1] < 20:\n",
    "            hl -= 5\n",
    "            mfcc = librosa.feature.mfcc(y=audio, sr=sr, n_mfcc=13, hop_length=hl)\n",
    "        else:\n",
    "            break\n",
    "            \n",
    "    return mfcc"
   ]
  },
  {
   "cell_type": "markdown",
   "metadata": {},
   "source": [
    "## Getting Pairs\n",
    "\n",
    "### Positive Pairs"
   ]
  },
  {
   "cell_type": "code",
   "execution_count": 24,
   "metadata": {
    "ExecuteTime": {
     "end_time": "2020-11-20T15:48:25.044471Z",
     "start_time": "2020-11-20T15:48:24.506489Z"
    }
   },
   "outputs": [
    {
     "data": {
      "text/plain": [
       "((120, 120, 5), (13, 20), 0.0)"
      ]
     },
     "execution_count": 24,
     "metadata": {},
     "output_type": "execute_result"
    }
   ],
   "source": [
    "def get_positive_pair(file):\n",
    "    scene, start = get_random_scene_and_start(file)\n",
    "    images = get_image_stack(file, scene, start)\n",
    "    mfcc = get_mfcc(file, start)\n",
    "    distance = 0.\n",
    "    return [images, mfcc, distance]\n",
    "\n",
    "\n",
    "file = random.choice(os.listdir(ann_path))\n",
    "images, mfcc, dist = get_positive_pair(file)\n",
    "images.shape, mfcc.shape, dist"
   ]
  },
  {
   "cell_type": "markdown",
   "metadata": {},
   "source": [
    "### Hard Negative Pairs"
   ]
  },
  {
   "cell_type": "code",
   "execution_count": 25,
   "metadata": {
    "ExecuteTime": {
     "end_time": "2020-11-20T15:48:25.571062Z",
     "start_time": "2020-11-20T15:48:25.046194Z"
    }
   },
   "outputs": [
    {
     "data": {
      "text/plain": [
       "((120, 120, 5), (13, 20), 2.0)"
      ]
     },
     "execution_count": 25,
     "metadata": {},
     "output_type": "execute_result"
    }
   ],
   "source": [
    "def get_negative_pair_hard(file):\n",
    "    scene, start = get_random_scene_and_start(file)\n",
    "    images = get_image_stack(file, scene, start)\n",
    "    shifted_start = start + (random.choice([1, -1]) * random.randint(1, 4))\n",
    "    mfcc = get_mfcc(file, shifted_start)\n",
    "    distance = float(abs(start-shifted_start))\n",
    "    return [images, mfcc, distance]\n",
    "\n",
    "\n",
    "file = random.choice(os.listdir(ann_path))\n",
    "images, mfcc, dist = get_negative_pair_hard(file)\n",
    "images.shape, mfcc.shape, dist"
   ]
  },
  {
   "cell_type": "markdown",
   "metadata": {},
   "source": [
    "### Easy Negative Pairs"
   ]
  },
  {
   "cell_type": "code",
   "execution_count": 26,
   "metadata": {
    "ExecuteTime": {
     "end_time": "2020-11-20T15:48:25.576854Z",
     "start_time": "2020-11-20T15:48:25.572729Z"
    }
   },
   "outputs": [],
   "source": [
    "def get_frame_count(file):\n",
    "    file = file.split(\".json\")[0] + \".mp4\"\n",
    "    cap = cv2.VideoCapture(vid_path+file)\n",
    "    frame_count = int(cap.get(cv2.CAP_PROP_FRAME_COUNT))\n",
    "    cap.release()\n",
    "    return frame_count"
   ]
  },
  {
   "cell_type": "code",
   "execution_count": 27,
   "metadata": {
    "ExecuteTime": {
     "end_time": "2020-11-20T15:48:26.252337Z",
     "start_time": "2020-11-20T15:48:25.580491Z"
    }
   },
   "outputs": [
    {
     "data": {
      "text/plain": [
       "((120, 120, 5), (13, 20), 5.0)"
      ]
     },
     "execution_count": 27,
     "metadata": {},
     "output_type": "execute_result"
    }
   ],
   "source": [
    "def get_negative_pair_easy(file):\n",
    "    scene, start = get_random_scene_and_start(file)\n",
    "    images = get_image_stack(file, scene, start)\n",
    "    \n",
    "    # All the frames after the 5-frame-sequence\n",
    "    shifted_start_1_min = start + 5\n",
    "    shifted_start_1_max = get_frame_count(file) - 5\n",
    "    shifted_start_1 = random.randint(shifted_start_1_min, shifted_start_1_max)\n",
    "    \n",
    "    # All the frames before the 5-frame-sequence\n",
    "    shifted_start_2_min = 0\n",
    "    shifted_start_2_max = start - 1\n",
    "    shifted_start_2 = random.randint(shifted_start_2_min, shifted_start_2_max)\n",
    "    \n",
    "    shifted_start = None\n",
    "    if shifted_start_1_max - shifted_start_1_min < 5:\n",
    "        shifted_start = shifted_start_2\n",
    "    elif shifted_start_2_max - shifted_start_2_min < 5:\n",
    "        shifted_start = shifted_start_1\n",
    "    else:\n",
    "        shifted_start = random.choice([shifted_start_1, shifted_start_2])\n",
    "    \n",
    "    mfcc = get_mfcc(file, shifted_start)\n",
    "    distance = 5.0\n",
    "    return [images, mfcc, distance]\n",
    "\n",
    "file = random.choice(os.listdir(ann_path))\n",
    "images, mfcc, dist = get_negative_pair_easy(file)\n",
    "images.shape, mfcc.shape, dist"
   ]
  },
  {
   "cell_type": "markdown",
   "metadata": {},
   "source": [
    "## Preprocessing\n",
    "\n",
    "We need an array of audioinputs(13x20x1), videoinputs(120x120x5) and lables(1). From the 179 given Datasamples we can create at least twice as much datapairs for training, half of it labeled as synchronized."
   ]
  },
  {
   "cell_type": "code",
   "execution_count": 28,
   "metadata": {
    "ExecuteTime": {
     "end_time": "2020-11-20T15:48:26.258474Z",
     "start_time": "2020-11-20T15:48:26.254208Z"
    }
   },
   "outputs": [],
   "source": [
    "data_samples = os.listdir(ann_path)\n",
    "random.shuffle(data_samples)"
   ]
  },
  {
   "cell_type": "code",
   "execution_count": 29,
   "metadata": {
    "ExecuteTime": {
     "end_time": "2020-11-20T15:48:26.285850Z",
     "start_time": "2020-11-20T15:48:26.260137Z"
    }
   },
   "outputs": [
    {
     "name": "stdout",
     "output_type": "stream",
     "text": [
      "number_of_trainsamples:  168\n",
      "number_of_validationsamples:  43\n",
      "train_samples:  168\n",
      "val_samples:  43\n"
     ]
    }
   ],
   "source": [
    "#splitting can be done by model.fit().\n",
    "#We still split ourselfes so we can use the validation data for further analyses.\n",
    "\n",
    "#split samples in train and validation\n",
    "\n",
    "train_split = 0.8\n",
    "number_of_trainsamples = int(train_split * len(data_samples))\n",
    "number_of_validationsamples = len(data_samples) - number_of_trainsamples\n",
    "print(\"number_of_trainsamples: \", number_of_trainsamples)\n",
    "print(\"number_of_validationsamples: \", number_of_validationsamples)\n",
    "\n",
    "\n",
    "train_samples = data_samples[:number_of_trainsamples]\n",
    "\n",
    "val_samples = data_samples[number_of_trainsamples:]\n",
    "\n",
    "print(\"train_samples: \", len(train_samples))\n",
    "print(\"val_samples: \", len(val_samples))\n"
   ]
  },
  {
   "cell_type": "code",
   "execution_count": 30,
   "metadata": {
    "ExecuteTime": {
     "end_time": "2020-11-20T15:48:26.299012Z",
     "start_time": "2020-11-20T15:48:26.287576Z"
    }
   },
   "outputs": [],
   "source": [
    "def normalize(data):\n",
    "    minimum = np.min(data)\n",
    "    maximum = np.max(data)\n",
    "    data = (data - minimum) / (maximum - minimum)\n",
    "    return data"
   ]
  },
  {
   "cell_type": "markdown",
   "metadata": {},
   "source": [
    "# Training"
   ]
  },
  {
   "cell_type": "code",
   "execution_count": 31,
   "metadata": {
    "ExecuteTime": {
     "end_time": "2020-11-20T15:48:26.358178Z",
     "start_time": "2020-11-20T15:48:26.300724Z"
    }
   },
   "outputs": [],
   "source": [
    "class DataGenerator(keras.utils.Sequence):\n",
    "    'Generates data for Keras'\n",
    "    def __init__(self, list_IDs, batch_size=32, shuffle=True):\n",
    "        'Initialization'\n",
    "        self.batch_size = batch_size\n",
    "        self.list_IDs = list_IDs\n",
    "        self.shuffle = shuffle\n",
    "        self.on_epoch_end()\n",
    "\n",
    "    def __len__(self):\n",
    "        'Denotes the number of batches per epoch'\n",
    "        return int(np.floor(len(self.list_IDs) / self.batch_size))\n",
    "\n",
    "    def __getitem__(self, index):\n",
    "        'Generate one batch of data'\n",
    "        # Generate indexes of the batch\n",
    "        indexes = self.indexes[index*self.batch_size:(index+1)*self.batch_size]\n",
    "\n",
    "        # Find list of IDs\n",
    "        list_IDs_temp = [self.list_IDs[k] for k in indexes]\n",
    "\n",
    "        # Generate data\n",
    "        X, y = self.__data_generation(list_IDs_temp)\n",
    "\n",
    "        return X, y\n",
    "\n",
    "    def on_epoch_end(self):\n",
    "        'Updates indexes after each epoch'\n",
    "        self.indexes = np.arange(len(self.list_IDs))\n",
    "        if self.shuffle == True:\n",
    "            np.random.shuffle(self.indexes)\n",
    "\n",
    "    def __data_generation(self, list_IDs_temp):\n",
    "        'Generates data containing batch_size samples' # X : (n_samples, *dim, n_channels)\n",
    "        X_audio = list()\n",
    "        X_video = list()\n",
    "        y = list()\n",
    "\n",
    "        # Generate data\n",
    "        for i, data_sample in enumerate(list_IDs_temp):\n",
    "            generators = [get_positive_pair, get_negative_pair_hard, get_negative_pair_easy]\n",
    "            generator = random.choice(generators)\n",
    "            \n",
    "            try:\n",
    "                video, audio, distance = generator(data_sample)\n",
    "                X_audio.append(audio)\n",
    "                X_video.append(video)\n",
    "                y.append(distance)\n",
    "            except:\n",
    "                continue\n",
    "            \n",
    "        X = [normalize(np.stack(X_audio)), normalize(np.stack(X_video))]\n",
    "\n",
    "        return X, np.array(y) #keras.utils.to_categorical(y, num_classes=self.n_classes)\n",
    "    \n",
    "training_generator = DataGenerator(train_samples)\n",
    "validation_generator = DataGenerator(val_samples)"
   ]
  },
  {
   "cell_type": "code",
   "execution_count": 32,
   "metadata": {
    "ExecuteTime": {
     "end_time": "2020-11-20T15:48:43.216597Z",
     "start_time": "2020-11-20T15:48:26.360321Z"
    }
   },
   "outputs": [
    {
     "data": {
      "text/plain": [
       "array([5., 0., 2., 5., 0., 0., 1., 4., 5., 5., 5., 5., 0., 0., 2., 3., 5.,\n",
       "       0., 1., 5., 5., 5., 5., 5., 5., 0., 5., 4., 3., 5., 0.])"
      ]
     },
     "execution_count": 32,
     "metadata": {},
     "output_type": "execute_result"
    }
   ],
   "source": [
    "training_generator.__getitem__(0)[1]"
   ]
  },
  {
   "cell_type": "code",
   "execution_count": 33,
   "metadata": {
    "ExecuteTime": {
     "end_time": "2020-11-20T15:48:43.238131Z",
     "start_time": "2020-11-20T15:48:43.218184Z"
    }
   },
   "outputs": [],
   "source": [
    "sgd = SGD(lr=0.001)\n",
    "syncnet.compile(loss=contrastive_loss, optimizer=sgd) #, metrics=[accuracy]"
   ]
  },
  {
   "cell_type": "code",
   "execution_count": null,
   "metadata": {
    "ExecuteTime": {
     "start_time": "2020-11-20T15:49:18.173Z"
    }
   },
   "outputs": [
    {
     "name": "stdout",
     "output_type": "stream",
     "text": [
      "WARNING:tensorflow:From <ipython-input-34-020915bc86d9>:5: Model.fit_generator (from tensorflow.python.keras.engine.training) is deprecated and will be removed in a future version.\n",
      "Instructions for updating:\n",
      "Please use Model.fit, which supports generators.\n",
      "Epoch 1/100\n",
      "WARNING:tensorflow:multiprocessing can interact badly with TensorFlow, causing nondeterministic deadlocks. For high performance data pipelines tf.data is recommended.\n",
      "4/5 [=======================>......] - ETA: 1s - loss: -423.2867WARNING:tensorflow:multiprocessing can interact badly with TensorFlow, causing nondeterministic deadlocks. For high performance data pipelines tf.data is recommended.\n",
      "5/5 [==============================] - ETA: 0s - loss: -475.8225WARNING:tensorflow:multiprocessing can interact badly with TensorFlow, causing nondeterministic deadlocks. For high performance data pipelines tf.data is recommended.\n",
      "WARNING:tensorflow:multiprocessing can interact badly with TensorFlow, causing nondeterministic deadlocks. For high performance data pipelines tf.data is recommended.\n",
      "5/5 [==============================] - 71s 14s/step - loss: -475.8225 - val_loss: -5344326.0000\n",
      "Epoch 2/100\n",
      "WARNING:tensorflow:multiprocessing can interact badly with TensorFlow, causing nondeterministic deadlocks. For high performance data pipelines tf.data is recommended.\n"
     ]
    }
   ],
   "source": [
    "syncnet.fit_generator(generator=training_generator,\n",
    "                      validation_data=validation_generator,\n",
    "                      epochs=100, # 300\n",
    "                      use_multiprocessing=True,\n",
    "                      workers=6)"
   ]
  },
  {
   "cell_type": "markdown",
   "metadata": {},
   "source": [
    "# Testing"
   ]
  },
  {
   "cell_type": "code",
   "execution_count": 40,
   "metadata": {},
   "outputs": [
    {
     "data": {
      "text/plain": [
       "38"
      ]
     },
     "execution_count": 40,
     "metadata": {},
     "output_type": "execute_result"
    }
   ],
   "source": [
    "len(val_samples)"
   ]
  },
  {
   "cell_type": "code",
   "execution_count": 41,
   "metadata": {},
   "outputs": [
    {
     "data": {
      "text/plain": [
       "29"
      ]
     },
     "execution_count": 41,
     "metadata": {},
     "output_type": "execute_result"
    }
   ],
   "source": [
    "len(val_samples[4])"
   ]
  },
  {
   "cell_type": "code",
   "execution_count": 42,
   "metadata": {},
   "outputs": [
    {
     "name": "stdout",
     "output_type": "stream",
     "text": [
      "3.624047\n",
      "3.4726999\n",
      "3.412107\n",
      "3.4097688\n",
      "3.9411354\n",
      "3.9255192\n",
      "4.126041\n",
      "4.1325746\n",
      "2.9763288\n",
      "2.9907043\n",
      "2.9391062\n",
      "2.8490942\n",
      "2.616743\n",
      "2.4530292\n",
      "2.2624454\n",
      "2.076557\n",
      "2.2160082\n",
      "2.2807033\n",
      "2.120504\n",
      "2.0503297\n",
      "3.2165148\n",
      "3.0960975\n",
      "3.1070707\n",
      "3.0578554\n",
      "3.4396534\n",
      "3.4590278\n",
      "3.519087\n",
      "3.5660608\n",
      "3.8905616\n",
      "3.8225148\n",
      "3.757688\n",
      "3.793571\n",
      "2.3782163\n",
      "2.3171031\n",
      "2.1891322\n",
      "2.055949\n",
      "3.9881587\n",
      "4.0187283\n",
      "4.0082407\n",
      "3.9989343\n",
      "3.8358185\n",
      "3.7398498\n",
      "3.627967\n",
      "3.604019\n",
      "4.110656\n",
      "4.1194153\n",
      "4.000749\n",
      "3.9302063\n",
      "2.3505216\n",
      "2.6851153\n",
      "2.3814774\n",
      "2.395726\n",
      "2.0966372\n",
      "2.5560505\n",
      "2.7263858\n",
      "2.763288\n",
      "2.49598\n",
      "2.409595\n",
      "2.3606358\n",
      "2.3650734\n",
      "3.054705\n",
      "3.0114353\n",
      "3.0104315\n",
      "3.230986\n",
      "2.7568374\n",
      "2.7662506\n",
      "2.8360868\n",
      "2.8204992\n",
      "1.9993144\n",
      "2.1536248\n",
      "2.388814\n",
      "2.131327\n",
      "2.5034895\n",
      "2.4355845\n",
      "2.4526174\n",
      "2.5218418\n",
      "3.2263017\n",
      "3.2096498\n",
      "3.1704783\n",
      "3.1842165\n",
      "3.1495116\n",
      "3.0630636\n",
      "3.0945415\n",
      "3.1246793\n",
      "3.2892847\n",
      "3.2614415\n",
      "3.198392\n",
      "3.280982\n",
      "2.9205456\n",
      "2.886802\n",
      "2.936235\n",
      "2.939487\n",
      "2.5521502\n",
      "2.6579604\n",
      "2.6988351\n",
      "2.6919227\n",
      "2.9210777\n",
      "2.905327\n",
      "2.8588047\n",
      "2.8964963\n",
      "3.0356367\n",
      "3.0278456\n",
      "3.0215514\n",
      "2.9966986\n",
      "2.3622518\n",
      "2.6058974\n",
      "2.4344325\n",
      "2.3961806\n",
      "3.2553465\n",
      "3.2559314\n",
      "3.2637434\n",
      "3.2657986\n",
      "2.4809575\n",
      "2.1110477\n",
      "1.9858023\n",
      "1.8585151\n",
      "3.7995281\n",
      "3.8126237\n",
      "3.8145835\n",
      "3.8079414\n",
      "3.0668156\n",
      "2.959815\n",
      "2.7883182\n",
      "2.7723846\n",
      "2.8728127\n",
      "2.9211257\n",
      "2.9428818\n",
      "2.9000566\n",
      "3.0162995\n",
      "3.030196\n",
      "3.0515478\n",
      "3.0480022\n",
      "2.932313\n",
      "2.7495725\n",
      "2.5401528\n",
      "2.5953376\n"
     ]
    }
   ],
   "source": [
    "#distances for possible syncpoints\n",
    "for ds in val_samples:\n",
    "    sp = get_possible_syncpoints(ds)\n",
    "    for s in sp:\n",
    "        v,a,d = s\n",
    "        a = normalize(a.reshape(1,13,20,1))\n",
    "        v = normalize(v.reshape(1,120,120,5))\n",
    "        result = syncnet.predict([a,v])[0][0]\n",
    "        print(result)"
   ]
  },
  {
   "cell_type": "code",
   "execution_count": 93,
   "metadata": {},
   "outputs": [
    {
     "name": "stdout",
     "output_type": "stream",
     "text": [
      "number of val samples:  38\n",
      "55\n",
      "28\n",
      "18\n",
      "22\n",
      "1\n",
      "28\n",
      "82\n",
      "28\n",
      "80\n",
      "10\n",
      "23\n",
      "22\n",
      "2\n",
      "13\n",
      "11\n",
      "16\n",
      "2\n",
      "4\n",
      "50\n",
      "4\n",
      "2\n",
      "13\n",
      "15\n",
      "11\n",
      "7\n",
      "18\n",
      "3\n",
      "35\n",
      "83\n",
      "12\n",
      "16\n",
      "25\n",
      "31\n",
      "21\n",
      "total_abs_diff:  23.264705882352942\n"
     ]
    }
   ],
   "source": [
    "#calc total_relative_diff and total_abs_diff\n",
    "\n",
    "from operator import itemgetter\n",
    "import math\n",
    "\n",
    "total_abs_diff = 0\n",
    "total_relative_diff = 0\n",
    "all_distances_of_all_samples = []\n",
    "all_sync_frameindexes = []\n",
    "\n",
    "#for ds in val_samples:\n",
    "print(\"number of val samples: \", len(val_samples))\n",
    "#k = sampleindex\n",
    "for k in range(len(val_samples)):\n",
    "    syncframenumber = -1\n",
    "    distances  = []\n",
    "    #print(\"samplelength: \", len(val_samples[k]))\n",
    "    # i = frameindex\n",
    "    for i in range(len(val_samples[k])):\n",
    "        #skip ending and begining so 5 frames can be used in total per step\n",
    "        if (len(val_samples[k]) - 3) > i > 1:\n",
    "            images = list()\n",
    "            mfcc = np.zeros([13,20])\n",
    "            imagecoutner = 0\n",
    "            #j = frameindex\n",
    "            for j in range(i-2,i+3):\n",
    "                #print(\"imagecoutner: \", imagecoutner)\n",
    "                #print(\"k: \", k, \"i: \", i,\" j: \",j)   \n",
    "                images.append(val_samples[k][j][0])\n",
    "                mfcc[0:13, imagecoutner*4:(imagecoutner*4)+4] = val_samples[k][j][1]\n",
    "                imagecoutner += 1\n",
    "                \n",
    "            image_stack = np.stack(tuple(images)).reshape(120, 120, 5)\n",
    "            mfcc = mfcc.reshape(13,20,1)\n",
    "            \n",
    "            label = val_samples[k][i][2]\n",
    "            if label == True:\n",
    "                syncframenumber = i\n",
    "\n",
    "            \n",
    "            a = normalize(mfcc.reshape(1,13,20,1))\n",
    "            v = normalize(image_stack.reshape(1,120,120,5))\n",
    "            result = syncnet.predict([a,v])[0][0]\n",
    "            distances.append(result)\n",
    "            #print(result)\n",
    "            \n",
    "    if syncframenumber == -1:\n",
    "        continue\n",
    "        \n",
    "    abs_diff = abs(syncframenumber - min(enumerate(distances), key=itemgetter(1))[0])\n",
    "    total_relative_diff += relative_diff\n",
    "    total_abs_diff += abs_diff\n",
    "    all_distances_of_all_samples.append(distances)\n",
    "    all_sync_frameindexes.append(syncframenumber)\n",
    "\n",
    "    #print(\"syncframenumber\", syncframenumber)\n",
    "    print(abs_diff)\n",
    "    \n",
    "total_abs_diff = total_abs_diff/len(all_distances_of_all_samples)\n",
    "print(\"total_abs_diff: \", total_abs_diff)"
   ]
  },
  {
   "cell_type": "code",
   "execution_count": 94,
   "metadata": {},
   "outputs": [
    {
     "name": "stdout",
     "output_type": "stream",
     "text": [
      "total_abs_diff:  22.948961937716263\n"
     ]
    }
   ],
   "source": [
    "#test smoothing of distance values\n",
    "import numpy as np\n",
    "import matplotlib.pyplot as plt\n",
    "from scipy.signal import savgol_filter\n",
    "total_relative_diff:  0\n",
    "total_abs_diff:  0\n",
    "\n",
    "for sample_index in range(len(all_distances_of_all_samples)):\n",
    "    \n",
    "    windowsize = len(all_distances_of_all_samples[sample_index])\n",
    "    if windowsize % 2 ==0:\n",
    "        windowsize = windowsize -1\n",
    "    smoothed_distances = savgol_filter(all_distances_of_all_samples[sample_index], windowsize, 4) # window size 51, polynomial order 3\n",
    "    abs_diff = abs(all_sync_frameindexes[sample_index] - min(enumerate(smoothed_distances), key=itemgetter(1))[0])\n",
    "    total_abs_diff += abs_diff\n",
    "        \n",
    "        \n",
    "        \n",
    "total_abs_diff = total_abs_diff / len(all_distances_of_all_samples)\n",
    "\n",
    "print(\"total_abs_diff: \", total_abs_diff)\n",
    "\n"
   ]
  },
  {
   "cell_type": "code",
   "execution_count": 100,
   "metadata": {},
   "outputs": [
    {
     "data": {
      "image/png": "[encoded data removed]",
      "text/plain": [
       "<Figure size 432x288 with 1 Axes>"
      ]
     },
     "metadata": {
      "needs_background": "light"
     },
     "output_type": "display_data"
    },
    {
     "data": {
      "image/png": "[encoded data removed]",
      "text/plain": [
       "<Figure size 432x288 with 1 Axes>"
      ]
     },
     "metadata": {
      "needs_background": "light"
     },
     "output_type": "display_data"
    },
    {
     "data": {
      "image/png": "[encoded data removed]",
      "text/plain": [
       "<Figure size 432x288 with 1 Axes>"
      ]
     },
     "metadata": {
      "needs_background": "light"
     },
     "output_type": "display_data"
    },
    {
     "data": {
      "image/png": "[encoded data removed]",
      "text/plain": [
       "<Figure size 432x288 with 1 Axes>"
      ]
     },
     "metadata": {
      "needs_background": "light"
     },
     "output_type": "display_data"
    },
    {
     "data": {
      "image/png": "[encoded data removed]",
      "text/plain": [
       "<Figure size 432x288 with 1 Axes>"
      ]
     },
     "metadata": {
      "needs_background": "light"
     },
     "output_type": "display_data"
    },
    {
     "data": {
      "image/png": "[encoded data removed]",
      "text/plain": [
       "<Figure size 432x288 with 1 Axes>"
      ]
     },
     "metadata": {
      "needs_background": "light"
     },
     "output_type": "display_data"
    },
    {
     "data": {
      "image/png": "[encoded data removed]",
      "text/plain": [
       "<Figure size 432x288 with 1 Axes>"
      ]
     },
     "metadata": {
      "needs_background": "light"
     },
     "output_type": "display_data"
    },
    {
     "data": {
      "image/png": "[encoded data removed]",
      "text/plain": [
       "<Figure size 432x288 with 1 Axes>"
      ]
     },
     "metadata": {
      "needs_background": "light"
     },
     "output_type": "display_data"
    },
    {
     "data": {
      "image/png": "[encoded data removed]",
      "text/plain": [
       "<Figure size 432x288 with 1 Axes>"
      ]
     },
     "metadata": {
      "needs_background": "light"
     },
     "output_type": "display_data"
    },
    {
     "data": {
      "image/png": "[encoded data removed]",
      "text/plain": [
       "<Figure size 432x288 with 1 Axes>"
      ]
     },
     "metadata": {
      "needs_background": "light"
     },
     "output_type": "display_data"
    },
    {
     "data": {
      "image/png": "[encoded data removed]",
      "text/plain": [
       "<Figure size 432x288 with 1 Axes>"
      ]
     },
     "metadata": {
      "needs_background": "light"
     },
     "output_type": "display_data"
    },
    {
     "data": {
      "image/png": "[encoded data removed]",
      "text/plain": [
       "<Figure size 432x288 with 1 Axes>"
      ]
     },
     "metadata": {
      "needs_background": "light"
     },
     "output_type": "display_data"
    },
    {
     "data": {
      "image/png": "[encoded data removed]",
      "text/plain": [
       "<Figure size 432x288 with 1 Axes>"
      ]
     },
     "metadata": {
      "needs_background": "light"
     },
     "output_type": "display_data"
    },
    {
     "data": {
      "image/png": "[encoded data removed]",
      "text/plain": [
       "<Figure size 432x288 with 1 Axes>"
      ]
     },
     "metadata": {
      "needs_background": "light"
     },
     "output_type": "display_data"
    },
    {
     "data": {
      "image/png": "[encoded data removed]",
      "text/plain": [
       "<Figure size 432x288 with 1 Axes>"
      ]
     },
     "metadata": {
      "needs_background": "light"
     },
     "output_type": "display_data"
    },
    {
     "data": {
      "image/png": "[encoded data removed]",
      "text/plain": [
       "<Figure size 432x288 with 1 Axes>"
      ]
     },
     "metadata": {
      "needs_background": "light"
     },
     "output_type": "display_data"
    },
    {
     "data": {
      "image/png": "[encoded data removed]",
      "text/plain": [
       "<Figure size 432x288 with 1 Axes>"
      ]
     },
     "metadata": {
      "needs_background": "light"
     },
     "output_type": "display_data"
    },
    {
     "data": {
      "image/png": "[encoded data removed]",
      "text/plain": [
       "<Figure size 432x288 with 1 Axes>"
      ]
     },
     "metadata": {
      "needs_background": "light"
     },
     "output_type": "display_data"
    },
    {
     "data": {
      "image/png": "[encoded data removed]",
      "text/plain": [
       "<Figure size 432x288 with 1 Axes>"
      ]
     },
     "metadata": {
      "needs_background": "light"
     },
     "output_type": "display_data"
    },
    {
     "data": {
      "image/png": "[encoded data removed]",
      "text/plain": [
       "<Figure size 432x288 with 1 Axes>"
      ]
     },
     "metadata": {
      "needs_background": "light"
     },
     "output_type": "display_data"
    },
    {
     "data": {
      "image/png": "[encoded data removed]",
      "text/plain": [
       "<Figure size 432x288 with 1 Axes>"
      ]
     },
     "metadata": {
      "needs_background": "light"
     },
     "output_type": "display_data"
    },
    {
     "data": {
      "image/png": "[encoded data removed]",
      "text/plain": [
       "<Figure size 432x288 with 1 Axes>"
      ]
     },
     "metadata": {
      "needs_background": "light"
     },
     "output_type": "display_data"
    },
    {
     "data": {
      "image/png": "[encoded data removed]",
      "text/plain": [
       "<Figure size 432x288 with 1 Axes>"
      ]
     },
     "metadata": {
      "needs_background": "light"
     },
     "output_type": "display_data"
    },
    {
     "data": {
      "image/png": "[encoded data removed]",
      "text/plain": [
       "<Figure size 432x288 with 1 Axes>"
      ]
     },
     "metadata": {
      "needs_background": "light"
     },
     "output_type": "display_data"
    },
    {
     "data": {
      "image/png": "[encoded data removed]",
      "text/plain": [
       "<Figure size 432x288 with 1 Axes>"
      ]
     },
     "metadata": {
      "needs_background": "light"
     },
     "output_type": "display_data"
    },
    {
     "data": {
      "image/png": "[encoded data removed]",
      "text/plain": [
       "<Figure size 432x288 with 1 Axes>"
      ]
     },
     "metadata": {
      "needs_background": "light"
     },
     "output_type": "display_data"
    },
    {
     "data": {
      "image/png": "[encoded data removed]",
      "text/plain": [
       "<Figure size 432x288 with 1 Axes>"
      ]
     },
     "metadata": {
      "needs_background": "light"
     },
     "output_type": "display_data"
    },
    {
     "data": {
      "image/png": "[encoded data removed]",
      "text/plain": [
       "<Figure size 432x288 with 1 Axes>"
      ]
     },
     "metadata": {
      "needs_background": "light"
     },
     "output_type": "display_data"
    },
    {
     "data": {
      "image/png": "[encoded data removed]",
      "text/plain": [
       "<Figure size 432x288 with 1 Axes>"
      ]
     },
     "metadata": {
      "needs_background": "light"
     },
     "output_type": "display_data"
    },
    {
     "data": {
      "image/png": "[encoded data removed]",
      "text/plain": [
       "<Figure size 432x288 with 1 Axes>"
      ]
     },
     "metadata": {
      "needs_background": "light"
     },
     "output_type": "display_data"
    },
    {
     "data": {
      "image/png": "[encoded data removed]",
      "text/plain": [
       "<Figure size 432x288 with 1 Axes>"
      ]
     },
     "metadata": {
      "needs_background": "light"
     },
     "output_type": "display_data"
    },
    {
     "data": {
      "image/png": "[encoded data removed]",
      "text/plain": [
       "<Figure size 432x288 with 1 Axes>"
      ]
     },
     "metadata": {
      "needs_background": "light"
     },
     "output_type": "display_data"
    },
    {
     "data": {
      "image/png": "[encoded data removed]",
      "text/plain": [
       "<Figure size 432x288 with 1 Axes>"
      ]
     },
     "metadata": {
      "needs_background": "light"
     },
     "output_type": "display_data"
    },
    {
     "data": {
      "image/png": "[encoded data removed]",
      "text/plain": [
       "<Figure size 432x288 with 1 Axes>"
      ]
     },
     "metadata": {
      "needs_background": "light"
     },
     "output_type": "display_data"
    }
   ],
   "source": [
    "#visualization\n",
    "for sample_index in range(len(all_distances_of_all_samples)):\n",
    "    \n",
    "    windowsize = len(all_distances_of_all_samples[sample_index])\n",
    "    if windowsize % 2 ==0:\n",
    "        windowsize = windowsize -1\n",
    "    smoothed_distances = savgol_filter(all_distances_of_all_samples[sample_index], windowsize, 4) # window size 51, polynomial order 3\n",
    "\n",
    "    \n",
    "    clap = all_sync_frameindexes[sample_index]\n",
    "    pred_clap = min(enumerate(smoothed_distances), key=itemgetter(1))[0]\n",
    "    x = range(len(all_distances_of_all_samples[sample_index]))\n",
    "    plt.plot(x,smoothed_distances, color='red')\n",
    "    plt.axvline(x=clap, color = 'yellow')\n",
    "    plt.axvline(x=pred_clap, color = 'blue')\n",
    "\n",
    "    plt.show()"
   ]
  },
  {
   "cell_type": "markdown",
   "metadata": {},
   "source": [
    "# Johannes' erstes Netzwerk"
   ]
  },
  {
   "cell_type": "code",
   "execution_count": 32,
   "metadata": {},
   "outputs": [
    {
     "name": "stdout",
     "output_type": "stream",
     "text": [
      "WARNING:tensorflow:From /home/mf151/.direnv/python-3.7.3/lib/python3.7/site-packages/tensorflow/python/ops/math_ops.py:3066: to_int32 (from tensorflow.python.ops.math_ops) is deprecated and will be removed in a future version.\n",
      "Instructions for updating:\n",
      "Use tf.cast instead.\n",
      "Train on 286 samples, validate on 108 samples\n",
      "Epoch 1/200\n",
      "286/286 [==============================] - 7s 23ms/step - loss: 75.1387 - val_loss: 253.9133\n",
      "Epoch 2/200\n",
      "286/286 [==============================] - 1s 3ms/step - loss: 59.6969 - val_loss: 111.8707\n",
      "Epoch 3/200\n",
      "286/286 [==============================] - 1s 3ms/step - loss: 52.4983 - val_loss: 101.5616\n",
      "Epoch 4/200\n",
      "286/286 [==============================] - 1s 3ms/step - loss: 46.0880 - val_loss: 87.8676\n",
      "Epoch 5/200\n",
      "286/286 [==============================] - 1s 3ms/step - loss: 41.1890 - val_loss: 68.6371\n",
      "Epoch 6/200\n",
      "286/286 [==============================] - 1s 3ms/step - loss: 36.5381 - val_loss: 54.0285\n",
      "Epoch 7/200\n",
      "286/286 [==============================] - 1s 3ms/step - loss: 31.8898 - val_loss: 49.2354\n",
      "Epoch 8/200\n",
      "286/286 [==============================] - 1s 3ms/step - loss: 28.7450 - val_loss: 45.3614\n",
      "Epoch 9/200\n",
      "286/286 [==============================] - 1s 3ms/step - loss: 25.7495 - val_loss: 42.7379\n",
      "Epoch 10/200\n",
      "286/286 [==============================] - 1s 3ms/step - loss: 22.9035 - val_loss: 37.9216\n",
      "Epoch 11/200\n",
      "286/286 [==============================] - 1s 3ms/step - loss: 21.0486 - val_loss: 32.8787\n",
      "Epoch 12/200\n",
      "286/286 [==============================] - 1s 3ms/step - loss: 18.9577 - val_loss: 29.9501\n",
      "Epoch 13/200\n",
      "286/286 [==============================] - 1s 3ms/step - loss: 17.8859 - val_loss: 27.6899\n",
      "Epoch 14/200\n",
      "286/286 [==============================] - 1s 3ms/step - loss: 16.5531 - val_loss: 27.0081\n",
      "Epoch 15/200\n",
      "286/286 [==============================] - 1s 3ms/step - loss: 15.0555 - val_loss: 23.9155\n",
      "Epoch 16/200\n",
      "286/286 [==============================] - 1s 3ms/step - loss: 14.1363 - val_loss: 21.5186\n",
      "Epoch 17/200\n",
      "286/286 [==============================] - 1s 3ms/step - loss: 13.3129 - val_loss: 19.6801\n",
      "Epoch 18/200\n",
      "286/286 [==============================] - 1s 3ms/step - loss: 12.7238 - val_loss: 19.3158\n",
      "Epoch 19/200\n",
      "286/286 [==============================] - 1s 3ms/step - loss: 11.8586 - val_loss: 17.7702\n",
      "Epoch 20/200\n",
      "286/286 [==============================] - 1s 3ms/step - loss: 11.1410 - val_loss: 16.7526\n",
      "Epoch 21/200\n",
      "286/286 [==============================] - 1s 3ms/step - loss: 10.4392 - val_loss: 15.8237\n",
      "Epoch 22/200\n",
      "286/286 [==============================] - 1s 3ms/step - loss: 10.0589 - val_loss: 15.1188\n",
      "Epoch 23/200\n",
      "286/286 [==============================] - 1s 3ms/step - loss: 9.4836 - val_loss: 13.7573\n",
      "Epoch 24/200\n",
      "286/286 [==============================] - 1s 3ms/step - loss: 9.1581 - val_loss: 12.5335\n",
      "Epoch 25/200\n",
      "286/286 [==============================] - 1s 3ms/step - loss: 8.5958 - val_loss: 12.1170\n",
      "Epoch 26/200\n",
      "286/286 [==============================] - 1s 3ms/step - loss: 8.2863 - val_loss: 11.2055\n",
      "Epoch 27/200\n",
      "286/286 [==============================] - 1s 3ms/step - loss: 7.8498 - val_loss: 10.4819\n",
      "Epoch 28/200\n",
      "286/286 [==============================] - 1s 3ms/step - loss: 7.6552 - val_loss: 9.7914\n",
      "Epoch 29/200\n",
      "286/286 [==============================] - 1s 3ms/step - loss: 7.3822 - val_loss: 9.5621\n",
      "Epoch 30/200\n",
      "286/286 [==============================] - 1s 3ms/step - loss: 7.0127 - val_loss: 8.5284\n",
      "Epoch 31/200\n",
      "286/286 [==============================] - 1s 3ms/step - loss: 6.6484 - val_loss: 8.1432\n",
      "Epoch 32/200\n",
      "286/286 [==============================] - 1s 3ms/step - loss: 6.3880 - val_loss: 7.6176\n",
      "Epoch 33/200\n",
      "286/286 [==============================] - 1s 3ms/step - loss: 6.2547 - val_loss: 7.0981\n",
      "Epoch 34/200\n",
      "286/286 [==============================] - 1s 3ms/step - loss: 6.0655 - val_loss: 6.8078\n",
      "Epoch 35/200\n",
      "286/286 [==============================] - 1s 3ms/step - loss: 5.8634 - val_loss: 6.4792\n",
      "Epoch 36/200\n",
      "286/286 [==============================] - 1s 3ms/step - loss: 5.6551 - val_loss: 6.2924\n",
      "Epoch 37/200\n",
      "286/286 [==============================] - 1s 3ms/step - loss: 5.3965 - val_loss: 6.0768\n",
      "Epoch 38/200\n",
      "286/286 [==============================] - 1s 3ms/step - loss: 5.2892 - val_loss: 5.7747\n",
      "Epoch 39/200\n",
      "286/286 [==============================] - 1s 3ms/step - loss: 5.1814 - val_loss: 5.4937\n",
      "Epoch 40/200\n",
      "286/286 [==============================] - 1s 3ms/step - loss: 4.9325 - val_loss: 5.1798\n",
      "Epoch 41/200\n",
      "286/286 [==============================] - 1s 3ms/step - loss: 4.8065 - val_loss: 5.0534\n",
      "Epoch 42/200\n",
      "286/286 [==============================] - 1s 3ms/step - loss: 4.6049 - val_loss: 4.8366\n",
      "Epoch 43/200\n",
      "286/286 [==============================] - 1s 3ms/step - loss: 4.5051 - val_loss: 4.5641\n",
      "Epoch 44/200\n",
      "286/286 [==============================] - 1s 3ms/step - loss: 4.3868 - val_loss: 4.3219\n",
      "Epoch 45/200\n",
      "286/286 [==============================] - 1s 3ms/step - loss: 4.2334 - val_loss: 4.1400\n",
      "Epoch 46/200\n",
      "286/286 [==============================] - 1s 3ms/step - loss: 4.1827 - val_loss: 4.0737\n",
      "Epoch 47/200\n",
      "286/286 [==============================] - 1s 3ms/step - loss: 4.0907 - val_loss: 3.8625\n",
      "Epoch 48/200\n",
      "286/286 [==============================] - 1s 3ms/step - loss: 3.9519 - val_loss: 3.5891\n",
      "Epoch 49/200\n",
      "286/286 [==============================] - 1s 3ms/step - loss: 3.8215 - val_loss: 3.4779\n",
      "Epoch 50/200\n",
      "286/286 [==============================] - 1s 3ms/step - loss: 3.7555 - val_loss: 3.3359\n",
      "Epoch 51/200\n",
      "286/286 [==============================] - 1s 3ms/step - loss: 3.6803 - val_loss: 3.1555\n",
      "Epoch 52/200\n",
      "286/286 [==============================] - 1s 3ms/step - loss: 3.5714 - val_loss: 3.1188\n",
      "Epoch 53/200\n",
      "286/286 [==============================] - 1s 3ms/step - loss: 3.4951 - val_loss: 3.0301\n",
      "Epoch 54/200\n",
      "286/286 [==============================] - 1s 3ms/step - loss: 3.4686 - val_loss: 2.9562\n",
      "Epoch 55/200\n",
      "286/286 [==============================] - 1s 3ms/step - loss: 3.3766 - val_loss: 2.8143\n",
      "Epoch 56/200\n",
      "286/286 [==============================] - 1s 3ms/step - loss: 3.3048 - val_loss: 2.7540\n",
      "Epoch 57/200\n",
      "286/286 [==============================] - 1s 3ms/step - loss: 3.1993 - val_loss: 2.6790\n",
      "Epoch 58/200\n",
      "286/286 [==============================] - 1s 3ms/step - loss: 3.1152 - val_loss: 2.5405\n",
      "Epoch 59/200\n",
      "286/286 [==============================] - 1s 3ms/step - loss: 3.0508 - val_loss: 2.4445\n",
      "Epoch 60/200\n",
      "286/286 [==============================] - 1s 3ms/step - loss: 2.9317 - val_loss: 2.3862\n",
      "Epoch 61/200\n",
      "286/286 [==============================] - 1s 3ms/step - loss: 2.9529 - val_loss: 2.2941\n",
      "Epoch 62/200\n",
      "286/286 [==============================] - 1s 3ms/step - loss: 2.8411 - val_loss: 2.2755\n",
      "Epoch 63/200\n",
      "286/286 [==============================] - 1s 3ms/step - loss: 2.8189 - val_loss: 2.1748\n",
      "Epoch 64/200\n",
      "286/286 [==============================] - 1s 3ms/step - loss: 2.7662 - val_loss: 2.0828\n",
      "Epoch 65/200\n",
      "286/286 [==============================] - 1s 3ms/step - loss: 2.6980 - val_loss: 2.0339\n",
      "Epoch 66/200\n",
      "286/286 [==============================] - 1s 3ms/step - loss: 2.6772 - val_loss: 2.0393\n",
      "Epoch 67/200\n",
      "286/286 [==============================] - 1s 3ms/step - loss: 2.5721 - val_loss: 2.0032\n",
      "Epoch 68/200\n",
      "286/286 [==============================] - 1s 3ms/step - loss: 2.5576 - val_loss: 1.9188\n",
      "Epoch 69/200\n",
      "286/286 [==============================] - 1s 3ms/step - loss: 2.4766 - val_loss: 1.8643\n",
      "Epoch 70/200\n",
      "286/286 [==============================] - 1s 3ms/step - loss: 2.3980 - val_loss: 1.8606\n",
      "Epoch 71/200\n",
      "286/286 [==============================] - 1s 3ms/step - loss: 2.4492 - val_loss: 1.7792\n",
      "Epoch 72/200\n",
      "286/286 [==============================] - 1s 3ms/step - loss: 2.4187 - val_loss: 1.7733\n",
      "Epoch 73/200\n",
      "286/286 [==============================] - 1s 3ms/step - loss: 2.3039 - val_loss: 1.7503\n",
      "Epoch 74/200\n",
      "286/286 [==============================] - 1s 3ms/step - loss: 2.3102 - val_loss: 1.7088\n",
      "Epoch 75/200\n",
      "286/286 [==============================] - 1s 3ms/step - loss: 2.2183 - val_loss: 1.6846\n",
      "Epoch 76/200\n",
      "286/286 [==============================] - 1s 3ms/step - loss: 2.2090 - val_loss: 1.6287\n",
      "Epoch 77/200\n",
      "286/286 [==============================] - 1s 3ms/step - loss: 2.1515 - val_loss: 1.6102\n",
      "Epoch 78/200\n",
      "286/286 [==============================] - 1s 3ms/step - loss: 2.1287 - val_loss: 1.5504\n",
      "Epoch 79/200\n",
      "286/286 [==============================] - 1s 3ms/step - loss: 2.0443 - val_loss: 1.5469\n",
      "Epoch 80/200\n",
      "286/286 [==============================] - 1s 3ms/step - loss: 2.0747 - val_loss: 1.4963\n",
      "Epoch 81/200\n",
      "286/286 [==============================] - 1s 3ms/step - loss: 1.9750 - val_loss: 1.4603\n",
      "Epoch 82/200\n",
      "286/286 [==============================] - 1s 3ms/step - loss: 2.0048 - val_loss: 1.4675\n",
      "Epoch 83/200\n",
      "286/286 [==============================] - 1s 3ms/step - loss: 1.9826 - val_loss: 1.4300\n",
      "Epoch 84/200\n",
      "286/286 [==============================] - 1s 3ms/step - loss: 1.9601 - val_loss: 1.3987\n",
      "Epoch 85/200\n",
      "286/286 [==============================] - 1s 3ms/step - loss: 1.9071 - val_loss: 1.3695\n",
      "Epoch 86/200\n",
      "286/286 [==============================] - 1s 3ms/step - loss: 1.8641 - val_loss: 1.3840\n",
      "Epoch 87/200\n",
      "286/286 [==============================] - 1s 3ms/step - loss: 1.8205 - val_loss: 1.3383\n",
      "Epoch 88/200\n",
      "286/286 [==============================] - 1s 3ms/step - loss: 1.7984 - val_loss: 1.3087\n",
      "Epoch 89/200\n",
      "286/286 [==============================] - 1s 3ms/step - loss: 1.7624 - val_loss: 1.2999\n",
      "Epoch 90/200\n",
      "286/286 [==============================] - 1s 3ms/step - loss: 1.7439 - val_loss: 1.2717\n",
      "Epoch 91/200\n",
      "286/286 [==============================] - 1s 3ms/step - loss: 1.7133 - val_loss: 1.2685\n",
      "Epoch 92/200\n",
      "286/286 [==============================] - 1s 3ms/step - loss: 1.7010 - val_loss: 1.2528\n",
      "Epoch 93/200\n",
      "286/286 [==============================] - 1s 3ms/step - loss: 1.6979 - val_loss: 1.2231\n",
      "Epoch 94/200\n",
      "286/286 [==============================] - 1s 3ms/step - loss: 1.6311 - val_loss: 1.1780\n",
      "Epoch 95/200\n",
      "286/286 [==============================] - 1s 3ms/step - loss: 1.6246 - val_loss: 1.1498\n",
      "Epoch 96/200\n",
      "286/286 [==============================] - 1s 3ms/step - loss: 1.6368 - val_loss: 1.1353\n",
      "Epoch 97/200\n",
      "286/286 [==============================] - 1s 3ms/step - loss: 1.6157 - val_loss: 1.1246\n",
      "Epoch 98/200\n",
      "286/286 [==============================] - 1s 3ms/step - loss: 1.6019 - val_loss: 1.1091\n",
      "Epoch 99/200\n",
      "286/286 [==============================] - 1s 3ms/step - loss: 1.5430 - val_loss: 1.1136\n",
      "Epoch 100/200\n",
      "286/286 [==============================] - 1s 3ms/step - loss: 1.5298 - val_loss: 1.0620\n",
      "Epoch 101/200\n",
      "286/286 [==============================] - 1s 3ms/step - loss: 1.4947 - val_loss: 1.0441\n",
      "Epoch 102/200\n",
      "286/286 [==============================] - 1s 3ms/step - loss: 1.4963 - val_loss: 1.0477\n",
      "Epoch 103/200\n",
      "286/286 [==============================] - 1s 3ms/step - loss: 1.4820 - val_loss: 1.0283\n",
      "Epoch 104/200\n",
      "286/286 [==============================] - 1s 3ms/step - loss: 1.4285 - val_loss: 1.0088\n",
      "Epoch 105/200\n",
      "286/286 [==============================] - 1s 3ms/step - loss: 1.4238 - val_loss: 1.0054\n",
      "Epoch 106/200\n",
      "286/286 [==============================] - 1s 3ms/step - loss: 1.3851 - val_loss: 1.0038\n",
      "Epoch 107/200\n",
      "286/286 [==============================] - 1s 3ms/step - loss: 1.4382 - val_loss: 1.0044\n",
      "Epoch 108/200\n",
      "286/286 [==============================] - 1s 3ms/step - loss: 1.4000 - val_loss: 0.9811\n",
      "Epoch 109/200\n",
      "286/286 [==============================] - 1s 3ms/step - loss: 1.3507 - val_loss: 0.9609\n",
      "Epoch 110/200\n",
      "286/286 [==============================] - 1s 3ms/step - loss: 1.3213 - val_loss: 0.9498\n",
      "Epoch 111/200\n",
      "286/286 [==============================] - 1s 3ms/step - loss: 1.3102 - val_loss: 0.9427\n",
      "Epoch 112/200\n",
      "286/286 [==============================] - 1s 3ms/step - loss: 1.3053 - val_loss: 0.9572\n",
      "Epoch 113/200\n",
      "286/286 [==============================] - 1s 3ms/step - loss: 1.2889 - val_loss: 0.9204\n",
      "Epoch 114/200\n",
      "286/286 [==============================] - 1s 3ms/step - loss: 1.2764 - val_loss: 0.9283\n",
      "Epoch 115/200\n",
      "286/286 [==============================] - 1s 3ms/step - loss: 1.2722 - val_loss: 0.9215\n",
      "Epoch 116/200\n",
      "286/286 [==============================] - 1s 3ms/step - loss: 1.2457 - val_loss: 0.9043\n",
      "Epoch 117/200\n",
      "286/286 [==============================] - 1s 3ms/step - loss: 1.2283 - val_loss: 0.8906\n",
      "Epoch 118/200\n",
      "286/286 [==============================] - 1s 3ms/step - loss: 1.2400 - val_loss: 0.8819\n",
      "Epoch 119/200\n",
      "286/286 [==============================] - 1s 3ms/step - loss: 1.1806 - val_loss: 0.8724\n",
      "Epoch 120/200\n",
      "286/286 [==============================] - 1s 3ms/step - loss: 1.1908 - val_loss: 0.8478\n",
      "Epoch 121/200\n",
      "286/286 [==============================] - 1s 3ms/step - loss: 1.1628 - val_loss: 0.8366\n",
      "Epoch 122/200\n",
      "286/286 [==============================] - 1s 3ms/step - loss: 1.1337 - val_loss: 0.8390\n",
      "Epoch 123/200\n",
      "286/286 [==============================] - 1s 3ms/step - loss: 1.1230 - val_loss: 0.8320\n",
      "Epoch 124/200\n",
      "286/286 [==============================] - 1s 3ms/step - loss: 1.1232 - val_loss: 0.8219\n",
      "Epoch 125/200\n",
      "286/286 [==============================] - 1s 3ms/step - loss: 1.1308 - val_loss: 0.8132\n",
      "Epoch 126/200\n",
      "286/286 [==============================] - 1s 3ms/step - loss: 1.0859 - val_loss: 0.8083\n",
      "Epoch 127/200\n",
      "286/286 [==============================] - 1s 3ms/step - loss: 1.0954 - val_loss: 0.7986\n",
      "Epoch 128/200\n",
      "286/286 [==============================] - 1s 3ms/step - loss: 1.1022 - val_loss: 0.7894\n",
      "Epoch 129/200\n",
      "286/286 [==============================] - 1s 3ms/step - loss: 1.0563 - val_loss: 0.7816\n",
      "Epoch 130/200\n",
      "286/286 [==============================] - 1s 3ms/step - loss: 1.0421 - val_loss: 0.7793\n",
      "Epoch 131/200\n",
      "286/286 [==============================] - 1s 3ms/step - loss: 1.0424 - val_loss: 0.7623\n",
      "Epoch 132/200\n",
      "286/286 [==============================] - 1s 3ms/step - loss: 1.0479 - val_loss: 0.7622\n",
      "Epoch 133/200\n",
      "286/286 [==============================] - 1s 3ms/step - loss: 1.0239 - val_loss: 0.7554\n",
      "Epoch 134/200\n",
      "286/286 [==============================] - 1s 3ms/step - loss: 0.9803 - val_loss: 0.7548\n",
      "Epoch 135/200\n",
      "286/286 [==============================] - 1s 3ms/step - loss: 0.9791 - val_loss: 0.7389\n",
      "Epoch 136/200\n",
      "286/286 [==============================] - 1s 3ms/step - loss: 0.9885 - val_loss: 0.7379\n",
      "Epoch 137/200\n",
      "286/286 [==============================] - 1s 3ms/step - loss: 0.9799 - val_loss: 0.7235\n",
      "Epoch 138/200\n",
      "286/286 [==============================] - 1s 3ms/step - loss: 0.9825 - val_loss: 0.7297\n",
      "Epoch 139/200\n",
      "286/286 [==============================] - 1s 3ms/step - loss: 0.9744 - val_loss: 0.7273\n",
      "Epoch 140/200\n",
      "286/286 [==============================] - 1s 3ms/step - loss: 0.9143 - val_loss: 0.7204\n",
      "Epoch 141/200\n",
      "286/286 [==============================] - 1s 3ms/step - loss: 0.9399 - val_loss: 0.7175\n",
      "Epoch 142/200\n",
      "286/286 [==============================] - 1s 3ms/step - loss: 0.9601 - val_loss: 0.7091\n",
      "Epoch 143/200\n",
      "286/286 [==============================] - 1s 3ms/step - loss: 0.9073 - val_loss: 0.7043\n",
      "Epoch 144/200\n",
      "286/286 [==============================] - 1s 3ms/step - loss: 0.9124 - val_loss: 0.7047\n",
      "Epoch 145/200\n",
      "286/286 [==============================] - 1s 3ms/step - loss: 0.8907 - val_loss: 0.7001\n",
      "Epoch 146/200\n",
      "286/286 [==============================] - 1s 3ms/step - loss: 0.8675 - val_loss: 0.6886\n",
      "Epoch 147/200\n",
      "286/286 [==============================] - 1s 3ms/step - loss: 0.8777 - val_loss: 0.6887\n",
      "Epoch 148/200\n",
      "286/286 [==============================] - 1s 3ms/step - loss: 0.8837 - val_loss: 0.6827\n",
      "Epoch 149/200\n",
      "286/286 [==============================] - 1s 3ms/step - loss: 0.8828 - val_loss: 0.6740\n",
      "Epoch 150/200\n",
      "286/286 [==============================] - 1s 3ms/step - loss: 0.8660 - val_loss: 0.6730\n",
      "Epoch 151/200\n",
      "286/286 [==============================] - 1s 3ms/step - loss: 0.8680 - val_loss: 0.6726\n",
      "Epoch 152/200\n",
      "286/286 [==============================] - 1s 3ms/step - loss: 0.8344 - val_loss: 0.6687\n",
      "Epoch 153/200\n",
      "286/286 [==============================] - 1s 3ms/step - loss: 0.8430 - val_loss: 0.6670\n",
      "Epoch 154/200\n",
      "286/286 [==============================] - 1s 3ms/step - loss: 0.8258 - val_loss: 0.6715\n",
      "Epoch 155/200\n",
      "286/286 [==============================] - 1s 3ms/step - loss: 0.8138 - val_loss: 0.6679\n",
      "Epoch 156/200\n",
      "286/286 [==============================] - 1s 3ms/step - loss: 0.8377 - val_loss: 0.6558\n"
     ]
    },
    {
     "name": "stdout",
     "output_type": "stream",
     "text": [
      "Epoch 157/200\n",
      "286/286 [==============================] - 1s 3ms/step - loss: 0.8040 - val_loss: 0.6502\n",
      "Epoch 158/200\n",
      "286/286 [==============================] - 1s 3ms/step - loss: 0.7770 - val_loss: 0.6389\n",
      "Epoch 159/200\n",
      "286/286 [==============================] - 1s 3ms/step - loss: 0.7913 - val_loss: 0.6375\n",
      "Epoch 160/200\n",
      "286/286 [==============================] - 1s 3ms/step - loss: 0.7832 - val_loss: 0.6407\n",
      "Epoch 161/200\n",
      "286/286 [==============================] - 1s 3ms/step - loss: 0.7625 - val_loss: 0.6326\n",
      "Epoch 162/200\n",
      "286/286 [==============================] - 1s 3ms/step - loss: 0.7787 - val_loss: 0.6322\n",
      "Epoch 163/200\n",
      "286/286 [==============================] - 1s 3ms/step - loss: 0.7596 - val_loss: 0.6325\n",
      "Epoch 164/200\n",
      "286/286 [==============================] - 1s 3ms/step - loss: 0.7757 - val_loss: 0.6279\n",
      "Epoch 165/200\n",
      "286/286 [==============================] - 1s 3ms/step - loss: 0.7525 - val_loss: 0.6261\n",
      "Epoch 166/200\n",
      "286/286 [==============================] - 1s 3ms/step - loss: 0.7612 - val_loss: 0.6187\n",
      "Epoch 167/200\n",
      "286/286 [==============================] - 1s 3ms/step - loss: 0.7631 - val_loss: 0.6187\n",
      "Epoch 168/200\n",
      "286/286 [==============================] - 1s 3ms/step - loss: 0.7087 - val_loss: 0.6158\n",
      "Epoch 169/200\n",
      "286/286 [==============================] - 1s 3ms/step - loss: 0.7320 - val_loss: 0.6059\n",
      "Epoch 170/200\n",
      "286/286 [==============================] - 1s 3ms/step - loss: 0.7254 - val_loss: 0.6035\n",
      "Epoch 171/200\n",
      "286/286 [==============================] - 1s 3ms/step - loss: 0.7185 - val_loss: 0.5992\n",
      "Epoch 172/200\n",
      "286/286 [==============================] - 1s 3ms/step - loss: 0.7210 - val_loss: 0.5952\n",
      "Epoch 173/200\n",
      "286/286 [==============================] - 1s 3ms/step - loss: 0.7092 - val_loss: 0.5969\n",
      "Epoch 174/200\n",
      "286/286 [==============================] - 1s 3ms/step - loss: 0.7183 - val_loss: 0.5955\n",
      "Epoch 175/200\n",
      "286/286 [==============================] - 1s 3ms/step - loss: 0.6942 - val_loss: 0.5875\n",
      "Epoch 176/200\n",
      "286/286 [==============================] - 1s 3ms/step - loss: 0.6932 - val_loss: 0.5946\n",
      "Epoch 177/200\n",
      "286/286 [==============================] - 1s 3ms/step - loss: 0.6850 - val_loss: 0.5897\n",
      "Epoch 178/200\n",
      "286/286 [==============================] - 1s 3ms/step - loss: 0.6757 - val_loss: 0.5876\n",
      "Epoch 179/200\n",
      "286/286 [==============================] - 1s 3ms/step - loss: 0.6666 - val_loss: 0.5840\n",
      "Epoch 180/200\n",
      "286/286 [==============================] - 1s 3ms/step - loss: 0.6695 - val_loss: 0.5830\n",
      "Epoch 181/200\n",
      "286/286 [==============================] - 1s 3ms/step - loss: 0.6648 - val_loss: 0.5764\n",
      "Epoch 182/200\n",
      "286/286 [==============================] - 1s 3ms/step - loss: 0.6613 - val_loss: 0.5874\n",
      "Epoch 183/200\n",
      "286/286 [==============================] - 1s 3ms/step - loss: 0.6742 - val_loss: 0.5867\n",
      "Epoch 184/200\n",
      "286/286 [==============================] - 1s 3ms/step - loss: 0.6448 - val_loss: 0.5860\n",
      "Epoch 185/200\n",
      "286/286 [==============================] - 1s 3ms/step - loss: 0.6293 - val_loss: 0.5736\n",
      "Epoch 186/200\n",
      "286/286 [==============================] - 1s 3ms/step - loss: 0.6675 - val_loss: 0.5697\n",
      "Epoch 187/200\n",
      "286/286 [==============================] - 1s 3ms/step - loss: 0.6237 - val_loss: 0.5662\n",
      "Epoch 188/200\n",
      "286/286 [==============================] - 1s 3ms/step - loss: 0.6125 - val_loss: 0.5680\n",
      "Epoch 189/200\n",
      "286/286 [==============================] - 1s 3ms/step - loss: 0.6205 - val_loss: 0.5632\n",
      "Epoch 190/200\n",
      "286/286 [==============================] - 1s 3ms/step - loss: 0.6341 - val_loss: 0.5651\n",
      "Epoch 191/200\n",
      "286/286 [==============================] - 1s 3ms/step - loss: 0.6179 - val_loss: 0.5566\n",
      "Epoch 192/200\n",
      "286/286 [==============================] - 1s 3ms/step - loss: 0.6189 - val_loss: 0.5629\n",
      "Epoch 193/200\n",
      "286/286 [==============================] - 1s 3ms/step - loss: 0.6157 - val_loss: 0.5512\n",
      "Epoch 194/200\n",
      "286/286 [==============================] - 1s 3ms/step - loss: 0.6362 - val_loss: 0.5410\n",
      "Epoch 195/200\n",
      "286/286 [==============================] - 1s 3ms/step - loss: 0.6096 - val_loss: 0.5469\n",
      "Epoch 196/200\n",
      "286/286 [==============================] - 1s 3ms/step - loss: 0.5960 - val_loss: 0.5471\n",
      "Epoch 197/200\n",
      "286/286 [==============================] - 1s 3ms/step - loss: 0.6050 - val_loss: 0.5395\n",
      "Epoch 198/200\n",
      "286/286 [==============================] - 1s 3ms/step - loss: 0.6054 - val_loss: 0.5400\n",
      "Epoch 199/200\n",
      "286/286 [==============================] - 1s 3ms/step - loss: 0.5993 - val_loss: 0.5446\n",
      "Epoch 200/200\n",
      "286/286 [==============================] - 1s 3ms/step - loss: 0.5898 - val_loss: 0.5441\n"
     ]
    },
    {
     "data": {
      "text/plain": [
       "<keras.callbacks.History at 0x7ff110078518>"
      ]
     },
     "execution_count": 32,
     "metadata": {},
     "output_type": "execute_result"
    }
   ],
   "source": [
    "#train\n",
    "syncnet.fit(x=[train_audio_inputs, train_video_inputs], \n",
    "            y=train_labels,\n",
    "            epochs=200,\n",
    "            batch_size=32,\n",
    "            validation_data=([val_audio_inputs,val_video_inputs],val_labels ),\n",
    "            shuffle = False)"
   ]
  },
  {
   "cell_type": "code",
   "execution_count": 59,
   "metadata": {},
   "outputs": [
    {
     "name": "stdout",
     "output_type": "stream",
     "text": [
      "step  1\n",
      "correct:  1\n",
      "incorrect:  0\n",
      "--------------\n",
      "step  2\n",
      "correct:  2\n",
      "incorrect:  0\n",
      "--------------\n",
      "step  3\n",
      "correct:  3\n",
      "incorrect:  0\n",
      "--------------\n",
      "step  4\n",
      "correct:  4\n",
      "incorrect:  0\n",
      "--------------\n",
      "step  5\n",
      "correct:  5\n",
      "incorrect:  0\n",
      "--------------\n",
      "step  6\n",
      "correct:  6\n",
      "incorrect:  0\n",
      "--------------\n",
      "step  7\n",
      "correct:  7\n",
      "incorrect:  0\n",
      "--------------\n",
      "step  8\n",
      "correct:  8\n",
      "incorrect:  0\n",
      "--------------\n",
      "step  9\n",
      "correct:  9\n",
      "incorrect:  0\n",
      "--------------\n",
      "step  10\n",
      "correct:  10\n",
      "incorrect:  0\n",
      "--------------\n",
      "step  11\n",
      "correct:  11\n",
      "incorrect:  0\n",
      "--------------\n",
      "step  12\n",
      "correct:  12\n",
      "incorrect:  0\n",
      "--------------\n",
      "step  13\n",
      "correct:  12\n",
      "incorrect:  1\n",
      "--------------\n",
      "step  14\n",
      "correct:  13\n",
      "incorrect:  1\n",
      "--------------\n",
      "step  15\n",
      "correct:  14\n",
      "incorrect:  1\n",
      "--------------\n",
      "step  16\n",
      "correct:  15\n",
      "incorrect:  1\n",
      "--------------\n",
      "step  17\n",
      "correct:  16\n",
      "incorrect:  1\n",
      "--------------\n",
      "step  18\n",
      "correct:  17\n",
      "incorrect:  1\n",
      "--------------\n",
      "step  19\n",
      "correct:  18\n",
      "incorrect:  1\n",
      "--------------\n",
      "step  20\n",
      "correct:  19\n",
      "incorrect:  1\n",
      "--------------\n",
      "step  21\n",
      "correct:  20\n",
      "incorrect:  1\n",
      "--------------\n",
      "step  22\n",
      "correct:  21\n",
      "incorrect:  1\n",
      "--------------\n",
      "step  23\n",
      "correct:  22\n",
      "incorrect:  1\n",
      "--------------\n",
      "step  24\n",
      "correct:  23\n",
      "incorrect:  1\n",
      "--------------\n",
      "step  25\n",
      "correct:  24\n",
      "incorrect:  1\n",
      "--------------\n",
      "step  26\n",
      "correct:  25\n",
      "incorrect:  1\n",
      "--------------\n",
      "step  27\n",
      "correct:  26\n",
      "incorrect:  1\n",
      "--------------\n",
      "step  28\n",
      "correct:  27\n",
      "incorrect:  1\n",
      "--------------\n",
      "step  29\n",
      "correct:  27\n",
      "incorrect:  2\n",
      "--------------\n",
      "step  30\n",
      "correct:  28\n",
      "incorrect:  2\n",
      "--------------\n",
      "step  31\n",
      "correct:  29\n",
      "incorrect:  2\n",
      "--------------\n",
      "step  32\n",
      "correct:  29\n",
      "incorrect:  3\n",
      "--------------\n",
      "step  33\n",
      "correct:  29\n",
      "incorrect:  4\n",
      "--------------\n",
      "step  34\n",
      "correct:  30\n",
      "incorrect:  4\n",
      "--------------\n",
      "step  35\n",
      "correct:  31\n",
      "incorrect:  4\n",
      "--------------\n",
      "step  36\n",
      "correct:  32\n",
      "incorrect:  4\n",
      "--------------\n"
     ]
    }
   ],
   "source": [
    "#sliding window evaluation on validation data:\n",
    "#we assume hard diff is two frames off and easy diff 5 frames off. For now we simply distinguish by distance of these 3.\n",
    "correct = 0\n",
    "incorrect = 0\n",
    "for i in range(len(val_samples)):\n",
    "    #synchronized\n",
    "    \n",
    "    #add batch dimension to audiodata to fit modelinput during inference    \n",
    "    audioinput = np.expand_dims(val_audio_inputs[i], axis=0)\n",
    "    videoinput = np.expand_dims(val_video_inputs[i], axis=0)\n",
    "    input_features = [audioinput, videoinput]\n",
    "    #label = 0\n",
    "    synchronized_dist = syncnet.predict(input_features)\n",
    "    #hard\n",
    "    videoinput = np.expand_dims(val_video_inputs[len(val_samples) + i], axis=0)\n",
    "    audioinput = np.expand_dims(val_audio_inputs[len(val_samples) + i], axis=0)\n",
    "    input_features = [audioinput, videoinput]\n",
    "    #label = 0.5\n",
    "    hard_dist = syncnet.predict(input_features)\n",
    "    #easy\n",
    "    videoinput = np.expand_dims(val_video_inputs[2 * len(val_samples) + i], axis=0)\n",
    "    audioinput = np.expand_dims(val_audio_inputs[2 * len(val_samples) + i], axis=0)\n",
    "    input_features = [audioinput, videoinput]\n",
    "    #label = 1\n",
    "    easy_dist = syncnet.predict(input_features)\n",
    "    \n",
    "    if easy_dist > hard_dist > synchronized_dist:\n",
    "        correct+=1\n",
    "    else:\n",
    "        incorrect+=1\n",
    "    print(\"step \", i + 1)\n",
    "    print(\"correct: \", correct)\n",
    "    print(\"incorrect: \", incorrect)\n",
    "    print(\"--------------\")"
   ]
  }
 ],
 "metadata": {
  "kernelspec": {
   "display_name": "Python 3",
   "language": "python",
   "name": "python3"
  },
  "language_info": {
   "codemirror_mode": {
    "name": "ipython",
    "version": 3
   },
   "file_extension": ".py",
   "mimetype": "text/x-python",
   "name": "python",
   "nbconvert_exporter": "python",
   "pygments_lexer": "ipython3",
   "version": "3.7.3"
  },
  "toc": {
   "base_numbering": 1,
   "nav_menu": {},
   "number_sections": true,
   "sideBar": true,
   "skip_h1_title": false,
   "title_cell": "Table of Contents",
   "title_sidebar": "Contents",
   "toc_cell": false,
   "toc_position": {},
   "toc_section_display": true,
   "toc_window_display": true
  }
 },
 "nbformat": 4,
 "nbformat_minor": 4
}
