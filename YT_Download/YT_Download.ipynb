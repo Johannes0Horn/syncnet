{
 "cells": [
  {
   "cell_type": "code",
   "execution_count": 1,
   "metadata": {
    "ExecuteTime": {
     "end_time": "2020-11-17T12:11:52.001238Z",
     "start_time": "2020-11-17T12:11:50.171557Z"
    }
   },
   "outputs": [],
   "source": [
    "import numpy as np\n",
    "import os\n",
    "import imutils\n",
    "import dlib\n",
    "import cv2\n",
    "import imageio\n",
    "from imutils import face_utils\n",
    "import matplotlib.pyplot as plt\n",
    "from IPython.display import Video\n",
    "import random\n",
    "from moviepy.editor import *\n",
    "from pytube import YouTube\n",
    "from bs4 import BeautifulSoup"
   ]
  },
  {
   "cell_type": "code",
   "execution_count": 2,
   "metadata": {
    "ExecuteTime": {
     "end_time": "2020-11-17T12:11:52.004933Z",
     "start_time": "2020-11-17T12:11:52.002828Z"
    }
   },
   "outputs": [],
   "source": [
    "import warnings\n",
    "warnings.filterwarnings('ignore')"
   ]
  },
  {
   "cell_type": "code",
   "execution_count": 3,
   "metadata": {
    "ExecuteTime": {
     "end_time": "2020-11-17T12:11:52.057738Z",
     "start_time": "2020-11-17T12:11:52.006656Z"
    }
   },
   "outputs": [],
   "source": [
    "from IPython.display import clear_output\n",
    "def update_progress(progress):\n",
    "    bar_length = 20\n",
    "    if isinstance(progress, int):\n",
    "        progress = float(progress)\n",
    "    if not isinstance(progress, float):\n",
    "        progress = 0\n",
    "    if progress < 0:\n",
    "        progress = 0\n",
    "    if progress >= 1:\n",
    "        progress = 1\n",
    "\n",
    "    block = int(round(bar_length * progress))\n",
    "\n",
    "    clear_output(wait = True)\n",
    "    text = \"Progress: [{0}] {1:.1f}%\".format( \"#\" * block + \"-\" * (bar_length - block), progress * 100)\n",
    "    print(text)\n",
    "    return"
   ]
  },
  {
   "cell_type": "markdown",
   "metadata": {},
   "source": [
    "# YouTube Download"
   ]
  },
  {
   "cell_type": "code",
   "execution_count": 3,
   "metadata": {
    "ExecuteTime": {
     "end_time": "2020-11-16T10:01:07.565911Z",
     "start_time": "2020-11-16T10:01:06.260256Z"
    }
   },
   "outputs": [
    {
     "data": {
      "text/plain": [
       "'To save the climate, we have to reimagine capitalism | Rebecca Henderson'"
      ]
     },
     "execution_count": 3,
     "metadata": {},
     "output_type": "execute_result"
    }
   ],
   "source": [
    "yt = YouTube(\"https://www.youtube.com/watch?v=fua_rUk0zk0\")\n",
    "yt.title"
   ]
  },
  {
   "cell_type": "code",
   "execution_count": 4,
   "metadata": {
    "ExecuteTime": {
     "end_time": "2020-11-16T10:01:07.569901Z",
     "start_time": "2020-11-16T10:01:07.567189Z"
    }
   },
   "outputs": [
    {
     "name": "stdout",
     "output_type": "stream",
     "text": [
      "<Stream: itag=\"18\" mime_type=\"video/mp4\" res=\"360p\" fps=\"30fps\" vcodec=\"avc1.42001E\" acodec=\"mp4a.40.2\" progressive=\"True\" type=\"video\">\n",
      "<Stream: itag=\"22\" mime_type=\"video/mp4\" res=\"720p\" fps=\"30fps\" vcodec=\"avc1.64001F\" acodec=\"mp4a.40.2\" progressive=\"True\" type=\"video\">\n"
     ]
    }
   ],
   "source": [
    "for s in yt.streams.filter(progressive=True):\n",
    "    print(s)"
   ]
  },
  {
   "cell_type": "code",
   "execution_count": 9,
   "metadata": {
    "ExecuteTime": {
     "end_time": "2020-11-16T10:02:28.525284Z",
     "start_time": "2020-11-16T10:02:25.789630Z"
    }
   },
   "outputs": [
    {
     "data": {
      "text/plain": [
       "'/home/fridman/SyncNet/YT_Download/videos/ted1.mp4'"
      ]
     },
     "execution_count": 9,
     "metadata": {},
     "output_type": "execute_result"
    }
   ],
   "source": [
    "yt.streams.filter(progressive=True).get_highest_resolution().download(\"videos\", filename=\"ted1\")"
   ]
  },
  {
   "cell_type": "markdown",
   "metadata": {},
   "source": [
    "## TED\n",
    "\n",
    "Saved DOM (not the source code, the DOM!!!) of [TED-YouTube-Channel](https://www.youtube.com/c/TED/videos) to a text file.\n",
    "\n",
    "Used this JS to scroll down a bunch:\n",
    "\n",
    "```setInterval(function() { window.scrollTo(0, document.body.scrollHeight); }, 2000);```"
   ]
  },
  {
   "cell_type": "code",
   "execution_count": 6,
   "metadata": {
    "ExecuteTime": {
     "end_time": "2020-11-16T10:01:24.159715Z",
     "start_time": "2020-11-16T10:01:24.126390Z"
    }
   },
   "outputs": [],
   "source": [
    "content = open(\"ted_dom.txt\", \"r\").read()"
   ]
  },
  {
   "cell_type": "code",
   "execution_count": 7,
   "metadata": {
    "ExecuteTime": {
     "end_time": "2020-11-16T10:01:33.099888Z",
     "start_time": "2020-11-16T10:01:24.818703Z"
    }
   },
   "outputs": [],
   "source": [
    "soup = BeautifulSoup(content, 'html.parser')"
   ]
  },
  {
   "cell_type": "code",
   "execution_count": 8,
   "metadata": {
    "ExecuteTime": {
     "end_time": "2020-11-16T10:01:33.176991Z",
     "start_time": "2020-11-16T10:01:33.101495Z"
    }
   },
   "outputs": [
    {
     "name": "stdout",
     "output_type": "stream",
     "text": [
      "2309\n"
     ]
    },
    {
     "data": {
      "text/plain": [
       "['https://www.youtube.com/watch?v=j-6zwv31qjg',\n",
       " 'https://www.youtube.com/watch?v=fua_rUk0zk0',\n",
       " 'https://www.youtube.com/watch?v=RszqjNDCBX0',\n",
       " 'https://www.youtube.com/watch?v=-Hmn5Gmn2dw',\n",
       " 'https://www.youtube.com/watch?v=lB3GWXStnzA',\n",
       " 'https://www.youtube.com/watch?v=peLzj80-7VY',\n",
       " 'https://www.youtube.com/watch?v=RJEJl6SKM4s',\n",
       " 'https://www.youtube.com/watch?v=0ITuQcoLXeE',\n",
       " 'https://www.youtube.com/watch?v=XZfKdlIRqYk',\n",
       " 'https://www.youtube.com/watch?v=wY7Tn-JW9No']"
      ]
     },
     "execution_count": 8,
     "metadata": {},
     "output_type": "execute_result"
    }
   ],
   "source": [
    "links = soup.find_all(\"a\")\n",
    "\n",
    "links_temp = list()\n",
    "for l in links:\n",
    "    links_temp.append(\"https://www.youtube.com\" + str(l.get(\"href\")))\n",
    "\n",
    "links = list(dict.fromkeys(links_temp))\n",
    "print(len(links))\n",
    "links[0:10]"
   ]
  },
  {
   "cell_type": "code",
   "execution_count": 15,
   "metadata": {
    "ExecuteTime": {
     "end_time": "2020-11-16T16:31:45.653616Z",
     "start_time": "2020-11-16T10:33:38.305560Z"
    }
   },
   "outputs": [
    {
     "name": "stdout",
     "output_type": "stream",
     "text": [
      "Progress: [####################] 100.0%\n"
     ]
    }
   ],
   "source": [
    "for i,link in enumerate(links):\n",
    "    try:\n",
    "        yt = YouTube(link)\n",
    "        name = link.split(\"?v=\")[1]\n",
    "        yt.streams.filter(progressive=True).get_highest_resolution().download(\"../DATA/videos\", filename=name)\n",
    "    except:\n",
    "        pass\n",
    "    update_progress((i+1)/len(links))"
   ]
  },
  {
   "cell_type": "code",
   "execution_count": 22,
   "metadata": {
    "ExecuteTime": {
     "end_time": "2020-11-16T16:43:44.835222Z",
     "start_time": "2020-11-16T16:35:53.202864Z"
    }
   },
   "outputs": [
    {
     "name": "stdout",
     "output_type": "stream",
     "text": [
      "Progress: [####################] 100.0%\n"
     ]
    }
   ],
   "source": [
    "duration = 0\n",
    "for i,file in enumerate(os.listdir(\"../DATA/videos\")):\n",
    "    try:\n",
    "        video = VideoFileClip(\"../DATA/videos/\"+file)\n",
    "        duration += video.duration\n",
    "    except:\n",
    "        pass\n",
    "    update_progress((i+1)/len(os.listdir(\"../DATA/videos\")))"
   ]
  },
  {
   "cell_type": "code",
   "execution_count": 33,
   "metadata": {
    "ExecuteTime": {
     "end_time": "2020-11-17T09:40:56.022903Z",
     "start_time": "2020-11-17T09:40:55.876691Z"
    }
   },
   "outputs": [
    {
     "name": "stdout",
     "output_type": "stream",
     "text": [
      "124G\t../DATA/videos\r\n"
     ]
    }
   ],
   "source": [
    "!du -sh ../DATA/videos"
   ]
  },
  {
   "cell_type": "code",
   "execution_count": 27,
   "metadata": {
    "ExecuteTime": {
     "end_time": "2020-11-16T16:44:50.116611Z",
     "start_time": "2020-11-16T16:44:50.111137Z"
    }
   },
   "outputs": [
    {
     "data": {
      "text/plain": [
       "'438.75195833333333 hours'"
      ]
     },
     "execution_count": 27,
     "metadata": {},
     "output_type": "execute_result"
    }
   ],
   "source": [
    "str(duration / 60 / 60) + \" hours\""
   ]
  }
 ],
 "metadata": {
  "kernelspec": {
   "display_name": "Python 3",
   "language": "python",
   "name": "python3"
  },
  "language_info": {
   "codemirror_mode": {
    "name": "ipython",
    "version": 3
   },
   "file_extension": ".py",
   "mimetype": "text/x-python",
   "name": "python",
   "nbconvert_exporter": "python",
   "pygments_lexer": "ipython3",
   "version": "3.7.3"
  },
  "toc": {
   "base_numbering": 1,
   "nav_menu": {},
   "number_sections": true,
   "sideBar": true,
   "skip_h1_title": false,
   "title_cell": "Table of Contents",
   "title_sidebar": "Contents",
   "toc_cell": false,
   "toc_position": {},
   "toc_section_display": true,
   "toc_window_display": true
  }
 },
 "nbformat": 4,
 "nbformat_minor": 2
}
